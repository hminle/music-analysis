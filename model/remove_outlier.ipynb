{
 "cells": [
  {
   "cell_type": "code",
   "execution_count": 1,
   "metadata": {
    "collapsed": true,
    "deletable": true,
    "editable": true
   },
   "outputs": [],
   "source": [
    "import pandas as pd\n",
    "import matplotlib.pyplot as plt\n",
    "import seaborn as sns\n",
    "import numpy as np\n",
    "\n",
    "from sklearn.preprocessing import StandardScaler\n",
    "from scipy import stats\n",
    "import warnings\n",
    "warnings.filterwarnings('ignore')\n",
    "\n",
    "%matplotlib inline"
   ]
  },
  {
   "cell_type": "code",
   "execution_count": 2,
   "metadata": {
    "collapsed": true,
    "deletable": true,
    "editable": true
   },
   "outputs": [],
   "source": [
    "from sklearn.cross_validation import cross_val_score\n",
    "from sklearn.metrics import make_scorer\n",
    "from sklearn.metrics import mean_squared_error\n",
    "from sklearn.model_selection import KFold, GridSearchCV\n",
    "\n",
    "from sklearn import linear_model\n",
    "from sklearn.linear_model import LinearRegression\n",
    "from sklearn.ensemble import BaggingRegressor\n",
    "from sklearn.ensemble import RandomForestRegressor\n",
    "from sklearn import svm\n",
    "from sklearn.ensemble import AdaBoostRegressor\n",
    "from sklearn.tree import DecisionTreeRegressor\n",
    "from xgboost import XGBRegressor\n",
    "from xgboost import plot_importance"
   ]
  },
  {
   "cell_type": "code",
   "execution_count": 3,
   "metadata": {
    "collapsed": false
   },
   "outputs": [
    {
     "name": "stdout",
     "output_type": "stream",
     "text": [
      "/Users/hoangnguyen/Documents/Github/music-analysis/utils\n"
     ]
    }
   ],
   "source": [
    "%cd ../utils\n",
    "from outlier_cleaner import outlierCleaner"
   ]
  },
  {
   "cell_type": "code",
   "execution_count": 4,
   "metadata": {
    "collapsed": true,
    "deletable": true,
    "editable": true
   },
   "outputs": [],
   "source": [
    "data = pd.read_csv('../data/dfLongterm.csv')\n",
    "y = pd.read_csv('../data/dfY.csv')"
   ]
  },
  {
   "cell_type": "code",
   "execution_count": 5,
   "metadata": {
    "collapsed": true,
    "deletable": true,
    "editable": true
   },
   "outputs": [],
   "source": [
    "df = pd.concat([data,y['valence_mean'], y['arousal_mean']], axis=1)"
   ]
  },
  {
   "cell_type": "code",
   "execution_count": 6,
   "metadata": {
    "collapsed": false
   },
   "outputs": [
    {
     "data": {
      "text/html": [
       "<div>\n",
       "<table border=\"1\" class=\"dataframe\">\n",
       "  <thead>\n",
       "    <tr style=\"text-align: right;\">\n",
       "      <th></th>\n",
       "      <th>fea1</th>\n",
       "      <th>fea2</th>\n",
       "      <th>fea3</th>\n",
       "      <th>fea4</th>\n",
       "      <th>fea5</th>\n",
       "      <th>fea6</th>\n",
       "      <th>fea7</th>\n",
       "      <th>fea8</th>\n",
       "      <th>fea9</th>\n",
       "      <th>fea10</th>\n",
       "      <th>...</th>\n",
       "      <th>fea26</th>\n",
       "      <th>fea27</th>\n",
       "      <th>fea28</th>\n",
       "      <th>fea29</th>\n",
       "      <th>fea30</th>\n",
       "      <th>fea31</th>\n",
       "      <th>fea32</th>\n",
       "      <th>fea33</th>\n",
       "      <th>valence_mean</th>\n",
       "      <th>arousal_mean</th>\n",
       "    </tr>\n",
       "  </thead>\n",
       "  <tbody>\n",
       "    <tr>\n",
       "      <th>0</th>\n",
       "      <td>137.14</td>\n",
       "      <td>-210.30</td>\n",
       "      <td>70.38</td>\n",
       "      <td>-1.80</td>\n",
       "      <td>13.52</td>\n",
       "      <td>7.67</td>\n",
       "      <td>9.21</td>\n",
       "      <td>-4.23</td>\n",
       "      <td>3.85</td>\n",
       "      <td>-2.07</td>\n",
       "      <td>...</td>\n",
       "      <td>0.41</td>\n",
       "      <td>0.43</td>\n",
       "      <td>0.20</td>\n",
       "      <td>0.17</td>\n",
       "      <td>0.26</td>\n",
       "      <td>0.54</td>\n",
       "      <td>0.42</td>\n",
       "      <td>0.45</td>\n",
       "      <td>3.1</td>\n",
       "      <td>3.0</td>\n",
       "    </tr>\n",
       "    <tr>\n",
       "      <th>1</th>\n",
       "      <td>96.00</td>\n",
       "      <td>-321.79</td>\n",
       "      <td>105.26</td>\n",
       "      <td>16.30</td>\n",
       "      <td>33.23</td>\n",
       "      <td>11.20</td>\n",
       "      <td>28.95</td>\n",
       "      <td>12.95</td>\n",
       "      <td>16.30</td>\n",
       "      <td>2.92</td>\n",
       "      <td>...</td>\n",
       "      <td>0.41</td>\n",
       "      <td>0.38</td>\n",
       "      <td>0.27</td>\n",
       "      <td>0.22</td>\n",
       "      <td>0.09</td>\n",
       "      <td>0.05</td>\n",
       "      <td>0.12</td>\n",
       "      <td>0.25</td>\n",
       "      <td>3.5</td>\n",
       "      <td>3.3</td>\n",
       "    </tr>\n",
       "    <tr>\n",
       "      <th>2</th>\n",
       "      <td>174.55</td>\n",
       "      <td>-216.06</td>\n",
       "      <td>88.31</td>\n",
       "      <td>-8.95</td>\n",
       "      <td>41.89</td>\n",
       "      <td>18.97</td>\n",
       "      <td>7.79</td>\n",
       "      <td>-2.24</td>\n",
       "      <td>5.94</td>\n",
       "      <td>0.00</td>\n",
       "      <td>...</td>\n",
       "      <td>0.44</td>\n",
       "      <td>0.21</td>\n",
       "      <td>0.09</td>\n",
       "      <td>0.18</td>\n",
       "      <td>0.31</td>\n",
       "      <td>0.67</td>\n",
       "      <td>0.40</td>\n",
       "      <td>0.53</td>\n",
       "      <td>5.7</td>\n",
       "      <td>5.5</td>\n",
       "    </tr>\n",
       "    <tr>\n",
       "      <th>3</th>\n",
       "      <td>49.23</td>\n",
       "      <td>-185.45</td>\n",
       "      <td>85.01</td>\n",
       "      <td>-8.47</td>\n",
       "      <td>3.75</td>\n",
       "      <td>-17.62</td>\n",
       "      <td>6.10</td>\n",
       "      <td>-14.41</td>\n",
       "      <td>-8.74</td>\n",
       "      <td>-7.15</td>\n",
       "      <td>...</td>\n",
       "      <td>0.53</td>\n",
       "      <td>0.20</td>\n",
       "      <td>0.26</td>\n",
       "      <td>0.09</td>\n",
       "      <td>0.14</td>\n",
       "      <td>0.17</td>\n",
       "      <td>0.31</td>\n",
       "      <td>0.33</td>\n",
       "      <td>4.4</td>\n",
       "      <td>5.3</td>\n",
       "    </tr>\n",
       "    <tr>\n",
       "      <th>4</th>\n",
       "      <td>120.00</td>\n",
       "      <td>-209.14</td>\n",
       "      <td>69.00</td>\n",
       "      <td>30.20</td>\n",
       "      <td>31.84</td>\n",
       "      <td>14.17</td>\n",
       "      <td>22.39</td>\n",
       "      <td>5.16</td>\n",
       "      <td>12.23</td>\n",
       "      <td>0.63</td>\n",
       "      <td>...</td>\n",
       "      <td>0.12</td>\n",
       "      <td>0.22</td>\n",
       "      <td>0.23</td>\n",
       "      <td>0.18</td>\n",
       "      <td>0.17</td>\n",
       "      <td>0.17</td>\n",
       "      <td>0.43</td>\n",
       "      <td>0.82</td>\n",
       "      <td>5.8</td>\n",
       "      <td>6.4</td>\n",
       "    </tr>\n",
       "  </tbody>\n",
       "</table>\n",
       "<p>5 rows × 35 columns</p>\n",
       "</div>"
      ],
      "text/plain": [
       "     fea1    fea2    fea3   fea4   fea5   fea6   fea7   fea8   fea9  fea10  \\\n",
       "0  137.14 -210.30   70.38  -1.80  13.52   7.67   9.21  -4.23   3.85  -2.07   \n",
       "1   96.00 -321.79  105.26  16.30  33.23  11.20  28.95  12.95  16.30   2.92   \n",
       "2  174.55 -216.06   88.31  -8.95  41.89  18.97   7.79  -2.24   5.94   0.00   \n",
       "3   49.23 -185.45   85.01  -8.47   3.75 -17.62   6.10 -14.41  -8.74  -7.15   \n",
       "4  120.00 -209.14   69.00  30.20  31.84  14.17  22.39   5.16  12.23   0.63   \n",
       "\n",
       "       ...       fea26  fea27  fea28  fea29  fea30  fea31  fea32  fea33  \\\n",
       "0      ...        0.41   0.43   0.20   0.17   0.26   0.54   0.42   0.45   \n",
       "1      ...        0.41   0.38   0.27   0.22   0.09   0.05   0.12   0.25   \n",
       "2      ...        0.44   0.21   0.09   0.18   0.31   0.67   0.40   0.53   \n",
       "3      ...        0.53   0.20   0.26   0.09   0.14   0.17   0.31   0.33   \n",
       "4      ...        0.12   0.22   0.23   0.18   0.17   0.17   0.43   0.82   \n",
       "\n",
       "   valence_mean  arousal_mean  \n",
       "0           3.1           3.0  \n",
       "1           3.5           3.3  \n",
       "2           5.7           5.5  \n",
       "3           4.4           5.3  \n",
       "4           5.8           6.4  \n",
       "\n",
       "[5 rows x 35 columns]"
      ]
     },
     "execution_count": 6,
     "metadata": {},
     "output_type": "execute_result"
    }
   ],
   "source": [
    "df.head()"
   ]
  },
  {
   "cell_type": "code",
   "execution_count": 7,
   "metadata": {
    "collapsed": false
   },
   "outputs": [
    {
     "data": {
      "text/plain": [
       "(1802, 35)"
      ]
     },
     "execution_count": 7,
     "metadata": {},
     "output_type": "execute_result"
    }
   ],
   "source": [
    "df.shape"
   ]
  },
  {
   "cell_type": "code",
   "execution_count": 8,
   "metadata": {
    "collapsed": false,
    "deletable": true,
    "editable": true
   },
   "outputs": [
    {
     "data": {
      "image/png": "[encoded data removed]",
      "text/plain": [
       "<matplotlib.figure.Figure at 0x10ba9eda0>"
      ]
     },
     "metadata": {},
     "output_type": "display_data"
    }
   ],
   "source": [
    "k = 15 #number of variables for heatmap\n",
    "corrmat = df.corr()\n",
    "cols = corrmat.nlargest(k, 'valence_mean')['valence_mean'].index\n",
    "cm = np.corrcoef(df[cols].values.T)\n",
    "sns.set(font_scale=1.25)\n",
    "hm = sns.heatmap(cm, cbar=True, annot=True, square=True, fmt='.2f', annot_kws={'size': 10}, yticklabels=cols.values, xticklabels=cols.values)\n",
    "plt.show()\n",
    "#plt.savefig('heatmap.png')"
   ]
  },
  {
   "cell_type": "markdown",
   "metadata": {},
   "source": [
    "# Data preprocessing"
   ]
  },
  {
   "cell_type": "markdown",
   "metadata": {},
   "source": [
    "## Remove outliers"
   ]
  },
  {
   "cell_type": "code",
   "execution_count": 9,
   "metadata": {
    "collapsed": false
   },
   "outputs": [
    {
     "data": {
      "text/plain": [
       "(1802, 35)"
      ]
     },
     "execution_count": 9,
     "metadata": {},
     "output_type": "execute_result"
    }
   ],
   "source": [
    "df.shape"
   ]
  },
  {
   "cell_type": "code",
   "execution_count": 10,
   "metadata": {
    "collapsed": true
   },
   "outputs": [],
   "source": [
    "def Cleaner(df, x, y):\n",
    "    \"\"\"\n",
    "    x, y: dataframe\n",
    "    \"\"\"\n",
    "    #convert to numpy array\n",
    "    x = np.reshape(np.array(df[x]), (len(df), 1))\n",
    "    y = np.reshape(np.array(df[y]), (len(df), 1))\n",
    "    \n",
    "    #fit\n",
    "    reg = LinearRegression()\n",
    "    reg.fit(x, y)\n",
    "    predictions = reg.predict(x)\n",
    "    cleaned_list = outlierCleaner(predictions, x, y)[1] #return a list of outlier values\n",
    "    cleaned_list =  np.reshape(np.array(cleaned_list), (len(cleaned_list), 1))\n",
    "    return cleaned_list"
   ]
  },
  {
   "cell_type": "markdown",
   "metadata": {},
   "source": [
    "### valence_mean"
   ]
  },
  {
   "cell_type": "code",
   "execution_count": 18,
   "metadata": {
    "collapsed": false
   },
   "outputs": [
    {
     "data": {
      "image/png": "[encoded data removed]",
      "text/plain": [
       "<matplotlib.figure.Figure at 0x10cc067b8>"
      ]
     },
     "metadata": {},
     "output_type": "display_data"
    }
   ],
   "source": [
    "# scatter plot\n",
    "x = 'fea2'\n",
    "y = 'valence_mean'\n",
    "temp = pd.concat([df[y], df[x]], axis=1)\n",
    "temp.plot.scatter(x, y);"
   ]
  },
  {
   "cell_type": "code",
   "execution_count": 12,
   "metadata": {
    "collapsed": false
   },
   "outputs": [],
   "source": [
    "# fea2\n",
    "cleaned_list = Cleaner(df, 'fea2', 'valence_mean')\n",
    "for i in cleaned_list:\n",
    "    df = df[df.fea2 != i[0]]"
   ]
  },
  {
   "cell_type": "code",
   "execution_count": 13,
   "metadata": {
    "collapsed": false
   },
   "outputs": [
    {
     "data": {
      "text/plain": [
       "((40, 1), (1760, 35))"
      ]
     },
     "execution_count": 13,
     "metadata": {},
     "output_type": "execute_result"
    }
   ],
   "source": [
    "cleaned_list.shape, df.shape"
   ]
  },
  {
   "cell_type": "markdown",
   "metadata": {},
   "source": [
    "### arousal_mean"
   ]
  },
  {
   "cell_type": "code",
   "execution_count": 17,
   "metadata": {
    "collapsed": false
   },
   "outputs": [
    {
     "data": {
      "image/png": "[encoded data removed]",
      "text/plain": [
       "<matplotlib.figure.Figure at 0x10c9ee8d0>"
      ]
     },
     "metadata": {},
     "output_type": "display_data"
    }
   ],
   "source": [
    "# scatter plot\n",
    "x = 'fea2'\n",
    "y = 'arousal_mean'\n",
    "temp = pd.concat([df[y], df[x]], axis=1)\n",
    "temp.plot.scatter(x, y);"
   ]
  },
  {
   "cell_type": "code",
   "execution_count": 15,
   "metadata": {
    "collapsed": false
   },
   "outputs": [],
   "source": [
    "# fea2\n",
    "cleaned_list = Cleaner(df, 'fea2', 'arousal_mean')\n",
    "for i in cleaned_list:\n",
    "    df = df[df.fea2 != i[0]]"
   ]
  },
  {
   "cell_type": "code",
   "execution_count": 16,
   "metadata": {
    "collapsed": false
   },
   "outputs": [
    {
     "data": {
      "text/plain": [
       "((40, 1), (1720, 35))"
      ]
     },
     "execution_count": 16,
     "metadata": {},
     "output_type": "execute_result"
    }
   ],
   "source": [
    "cleaned_list.shape, df.shape"
   ]
  },
  {
   "cell_type": "markdown",
   "metadata": {},
   "source": [
    "## Scale data"
   ]
  },
  {
   "cell_type": "code",
   "execution_count": 21,
   "metadata": {
    "collapsed": true
   },
   "outputs": [],
   "source": [
    "x = df.drop(['valence_mean', 'arousal_mean'], 1)\n",
    "y = pd.concat([df['valence_mean'], df['arousal_mean']],1)"
   ]
  },
  {
   "cell_type": "code",
   "execution_count": 22,
   "metadata": {
    "collapsed": false
   },
   "outputs": [
    {
     "data": {
      "text/plain": [
       "((1720, 33), (1720, 2))"
      ]
     },
     "execution_count": 22,
     "metadata": {},
     "output_type": "execute_result"
    }
   ],
   "source": [
    "x.shape, y.shape"
   ]
  },
  {
   "cell_type": "code",
   "execution_count": 23,
   "metadata": {
    "collapsed": true,
    "deletable": true,
    "editable": true
   },
   "outputs": [],
   "source": [
    "scaler = StandardScaler()"
   ]
  },
  {
   "cell_type": "code",
   "execution_count": 24,
   "metadata": {
    "collapsed": false,
    "deletable": true,
    "editable": true
   },
   "outputs": [
    {
     "data": {
      "text/plain": [
       "StandardScaler(copy=True, with_mean=True, with_std=True)"
      ]
     },
     "execution_count": 24,
     "metadata": {},
     "output_type": "execute_result"
    }
   ],
   "source": [
    "scaler.fit(x)"
   ]
  },
  {
   "cell_type": "code",
   "execution_count": 25,
   "metadata": {
    "collapsed": true,
    "deletable": true,
    "editable": true
   },
   "outputs": [],
   "source": [
    "data_scaled = scaler.transform(x)"
   ]
  },
  {
   "cell_type": "code",
   "execution_count": 26,
   "metadata": {
    "collapsed": true,
    "deletable": true,
    "editable": true
   },
   "outputs": [],
   "source": [
    "data_scaled = pd.DataFrame(data_scaled, columns=data.columns)"
   ]
  },
  {
   "cell_type": "code",
   "execution_count": 28,
   "metadata": {
    "collapsed": false,
    "deletable": true,
    "editable": true,
    "scrolled": true
   },
   "outputs": [
    {
     "data": {
      "text/html": [
       "<div>\n",
       "<table border=\"1\" class=\"dataframe\">\n",
       "  <thead>\n",
       "    <tr style=\"text-align: right;\">\n",
       "      <th></th>\n",
       "      <th>fea1</th>\n",
       "      <th>fea2</th>\n",
       "      <th>fea3</th>\n",
       "      <th>fea4</th>\n",
       "      <th>fea5</th>\n",
       "      <th>fea6</th>\n",
       "      <th>fea7</th>\n",
       "      <th>fea8</th>\n",
       "      <th>fea9</th>\n",
       "      <th>fea10</th>\n",
       "      <th>...</th>\n",
       "      <th>fea24</th>\n",
       "      <th>fea25</th>\n",
       "      <th>fea26</th>\n",
       "      <th>fea27</th>\n",
       "      <th>fea28</th>\n",
       "      <th>fea29</th>\n",
       "      <th>fea30</th>\n",
       "      <th>fea31</th>\n",
       "      <th>fea32</th>\n",
       "      <th>fea33</th>\n",
       "    </tr>\n",
       "  </thead>\n",
       "  <tbody>\n",
       "    <tr>\n",
       "      <th>0</th>\n",
       "      <td>0.645389</td>\n",
       "      <td>-0.082167</td>\n",
       "      <td>-0.778614</td>\n",
       "      <td>-0.049898</td>\n",
       "      <td>-0.771804</td>\n",
       "      <td>0.609500</td>\n",
       "      <td>0.200215</td>\n",
       "      <td>-0.243520</td>\n",
       "      <td>0.160489</td>\n",
       "      <td>0.295217</td>\n",
       "      <td>...</td>\n",
       "      <td>-0.107051</td>\n",
       "      <td>0.109812</td>\n",
       "      <td>0.327089</td>\n",
       "      <td>0.594910</td>\n",
       "      <td>-0.715599</td>\n",
       "      <td>-0.997184</td>\n",
       "      <td>-0.437066</td>\n",
       "      <td>0.918737</td>\n",
       "      <td>0.368388</td>\n",
       "      <td>0.429294</td>\n",
       "    </tr>\n",
       "    <tr>\n",
       "      <th>1</th>\n",
       "      <td>-0.702851</td>\n",
       "      <td>-1.249980</td>\n",
       "      <td>0.138619</td>\n",
       "      <td>0.662457</td>\n",
       "      <td>0.553031</td>\n",
       "      <td>0.910044</td>\n",
       "      <td>1.933442</td>\n",
       "      <td>1.834294</td>\n",
       "      <td>1.527843</td>\n",
       "      <td>0.974880</td>\n",
       "      <td>...</td>\n",
       "      <td>1.078787</td>\n",
       "      <td>1.597032</td>\n",
       "      <td>0.327089</td>\n",
       "      <td>0.306184</td>\n",
       "      <td>-0.294226</td>\n",
       "      <td>-0.717259</td>\n",
       "      <td>-1.477173</td>\n",
       "      <td>-1.824908</td>\n",
       "      <td>-1.371073</td>\n",
       "      <td>-0.707733</td>\n",
       "    </tr>\n",
       "    <tr>\n",
       "      <th>2</th>\n",
       "      <td>1.871390</td>\n",
       "      <td>-0.142500</td>\n",
       "      <td>-0.307112</td>\n",
       "      <td>-0.331298</td>\n",
       "      <td>1.135125</td>\n",
       "      <td>1.571579</td>\n",
       "      <td>0.075535</td>\n",
       "      <td>-0.002842</td>\n",
       "      <td>0.390029</td>\n",
       "      <td>0.577161</td>\n",
       "      <td>...</td>\n",
       "      <td>-0.538265</td>\n",
       "      <td>-0.663542</td>\n",
       "      <td>0.494478</td>\n",
       "      <td>-0.675484</td>\n",
       "      <td>-1.377757</td>\n",
       "      <td>-0.941199</td>\n",
       "      <td>-0.131152</td>\n",
       "      <td>1.646643</td>\n",
       "      <td>0.252424</td>\n",
       "      <td>0.884105</td>\n",
       "    </tr>\n",
       "    <tr>\n",
       "      <th>3</th>\n",
       "      <td>-2.235597</td>\n",
       "      <td>0.178127</td>\n",
       "      <td>-0.393892</td>\n",
       "      <td>-0.312406</td>\n",
       "      <td>-1.428509</td>\n",
       "      <td>-1.543683</td>\n",
       "      <td>-0.072852</td>\n",
       "      <td>-1.474728</td>\n",
       "      <td>-1.222240</td>\n",
       "      <td>-0.396705</td>\n",
       "      <td>...</td>\n",
       "      <td>-0.592167</td>\n",
       "      <td>1.061633</td>\n",
       "      <td>0.996644</td>\n",
       "      <td>-0.733229</td>\n",
       "      <td>-0.354422</td>\n",
       "      <td>-1.445064</td>\n",
       "      <td>-1.171259</td>\n",
       "      <td>-1.152995</td>\n",
       "      <td>-0.269414</td>\n",
       "      <td>-0.252922</td>\n",
       "    </tr>\n",
       "    <tr>\n",
       "      <th>4</th>\n",
       "      <td>0.083677</td>\n",
       "      <td>-0.070016</td>\n",
       "      <td>-0.814904</td>\n",
       "      <td>1.209514</td>\n",
       "      <td>0.459600</td>\n",
       "      <td>1.162909</td>\n",
       "      <td>1.357456</td>\n",
       "      <td>0.892142</td>\n",
       "      <td>1.080845</td>\n",
       "      <td>0.662970</td>\n",
       "      <td>...</td>\n",
       "      <td>-1.724103</td>\n",
       "      <td>-1.555875</td>\n",
       "      <td>-1.291002</td>\n",
       "      <td>-0.617739</td>\n",
       "      <td>-0.535011</td>\n",
       "      <td>-0.941199</td>\n",
       "      <td>-0.987711</td>\n",
       "      <td>-1.152995</td>\n",
       "      <td>0.426370</td>\n",
       "      <td>2.532794</td>\n",
       "    </tr>\n",
       "  </tbody>\n",
       "</table>\n",
       "<p>5 rows × 33 columns</p>\n",
       "</div>"
      ],
      "text/plain": [
       "       fea1      fea2      fea3      fea4      fea5      fea6      fea7  \\\n",
       "0  0.645389 -0.082167 -0.778614 -0.049898 -0.771804  0.609500  0.200215   \n",
       "1 -0.702851 -1.249980  0.138619  0.662457  0.553031  0.910044  1.933442   \n",
       "2  1.871390 -0.142500 -0.307112 -0.331298  1.135125  1.571579  0.075535   \n",
       "3 -2.235597  0.178127 -0.393892 -0.312406 -1.428509 -1.543683 -0.072852   \n",
       "4  0.083677 -0.070016 -0.814904  1.209514  0.459600  1.162909  1.357456   \n",
       "\n",
       "       fea8      fea9     fea10    ...        fea24     fea25     fea26  \\\n",
       "0 -0.243520  0.160489  0.295217    ...    -0.107051  0.109812  0.327089   \n",
       "1  1.834294  1.527843  0.974880    ...     1.078787  1.597032  0.327089   \n",
       "2 -0.002842  0.390029  0.577161    ...    -0.538265 -0.663542  0.494478   \n",
       "3 -1.474728 -1.222240 -0.396705    ...    -0.592167  1.061633  0.996644   \n",
       "4  0.892142  1.080845  0.662970    ...    -1.724103 -1.555875 -1.291002   \n",
       "\n",
       "      fea27     fea28     fea29     fea30     fea31     fea32     fea33  \n",
       "0  0.594910 -0.715599 -0.997184 -0.437066  0.918737  0.368388  0.429294  \n",
       "1  0.306184 -0.294226 -0.717259 -1.477173 -1.824908 -1.371073 -0.707733  \n",
       "2 -0.675484 -1.377757 -0.941199 -0.131152  1.646643  0.252424  0.884105  \n",
       "3 -0.733229 -0.354422 -1.445064 -1.171259 -1.152995 -0.269414 -0.252922  \n",
       "4 -0.617739 -0.535011 -0.941199 -0.987711 -1.152995  0.426370  2.532794  \n",
       "\n",
       "[5 rows x 33 columns]"
      ]
     },
     "execution_count": 28,
     "metadata": {},
     "output_type": "execute_result"
    }
   ],
   "source": [
    "data_scaled.head()"
   ]
  },
  {
   "cell_type": "code",
   "execution_count": 29,
   "metadata": {
    "collapsed": true,
    "deletable": true,
    "editable": true
   },
   "outputs": [],
   "source": [
    "def modelTest(clf, train, labels):\n",
    "    cv = KFold(n_splits=5,shuffle=True,random_state=45).split(train)\n",
    "    mse = make_scorer(mean_squared_error)\n",
    "    mse_val_score = cross_val_score(clf, train, labels, cv=cv, scoring=mse)\n",
    "    scores=[mse_val_score.mean()]\n",
    "    return scores"
   ]
  },
  {
   "cell_type": "code",
   "execution_count": 30,
   "metadata": {
    "collapsed": true,
    "deletable": true,
    "editable": true
   },
   "outputs": [],
   "source": [
    "def modelPlot(result_dict):\n",
    "    result = pd.DataFrame.from_dict(result_dict, orient='index')\n",
    "    result.columns = [\"Mean Squared Error\"] \n",
    "    result = result.sort(columns=[\"Mean Squared Error\"],ascending=False)\n",
    "    #print(result)\n",
    "    result.plot(kind=\"bar\",title=\"Model Scores\")\n",
    "    axes = plt.gca()\n",
    "    axes.set_ylim([0.5,1])\n",
    "    return result"
   ]
  },
  {
   "cell_type": "code",
   "execution_count": 31,
   "metadata": {
    "collapsed": true,
    "deletable": true,
    "editable": true
   },
   "outputs": [],
   "source": [
    "def modelFit(train, labels):\n",
    "    result_dict = {}\n",
    "    '''\n",
    "    clf = linear_model.LinearRegression()\n",
    "    result_dict[\"Linear\"] = modelTest(clf, train, labels)\n",
    "    \n",
    "    clf = linear_model.Lasso(alpha=1e-4)\n",
    "    result_dict[\"Lasso\"] = modelTest(clf, train, labels)\n",
    "    \n",
    "    clf = linear_model.Ridge()\n",
    "    result_dict[\"Ridge\"] = modelTest(clf, train, labels)\n",
    "    \n",
    "    clf = linear_model.BayesianRidge()\n",
    "    result_dict[\"Bayesian Ridge\"] = modelTest(clf, train, labels)\n",
    "    \n",
    "    clf = linear_model.HuberRegressor()\n",
    "    result_dict[\"Huber\"] = modelTest(clf, train, labels)\n",
    "    \n",
    "    clf = svm.SVR()\n",
    "    result_dict[\"SVM RBF\"] = modelTest(clf, train, labels)\n",
    "    \n",
    "    clf = svm.SVR(kernel=\"linear\")\n",
    "    result_dict[\"SVM Linear\"] = modelTest(clf, train, labels)\n",
    "    \n",
    "    clf = BaggingRegressor()\n",
    "    result_dict[\"Bagging\"] = modelTest(clf, train, labels)\n",
    "    \n",
    "    clf = RandomForestRegressor()\n",
    "    result_dict[\"RandomForest\"] = modelTest(clf, train, labels)\n",
    "    '''\n",
    "    clf = AdaBoostRegressor()\n",
    "    result_dict[\"AdaBoost\"] = modelTest(clf, train, labels)\n",
    "    \n",
    "    clf = XGBRegressor()\n",
    "    result_dict[\"XGBoost\"] = modelTest(clf, train, labels)\n",
    "    \n",
    "    model_summary = modelPlot(result_dict)\n",
    "    return model_summary"
   ]
  },
  {
   "cell_type": "code",
   "execution_count": 32,
   "metadata": {
    "collapsed": false,
    "deletable": true,
    "editable": true
   },
   "outputs": [
    {
     "data": {
      "text/html": [
       "<div>\n",
       "<table border=\"1\" class=\"dataframe\">\n",
       "  <thead>\n",
       "    <tr style=\"text-align: right;\">\n",
       "      <th></th>\n",
       "      <th>Mean Squared Error</th>\n",
       "    </tr>\n",
       "  </thead>\n",
       "  <tbody>\n",
       "    <tr>\n",
       "      <th>AdaBoost</th>\n",
       "      <td>0.777092</td>\n",
       "    </tr>\n",
       "    <tr>\n",
       "      <th>XGBoost</th>\n",
       "      <td>0.751941</td>\n",
       "    </tr>\n",
       "  </tbody>\n",
       "</table>\n",
       "</div>"
      ],
      "text/plain": [
       "          Mean Squared Error\n",
       "AdaBoost            0.777092\n",
       "XGBoost             0.751941"
      ]
     },
     "execution_count": 32,
     "metadata": {},
     "output_type": "execute_result"
    },
    {
     "data": {
      "image/png": "[encoded data removed]",
      "text/plain": [
       "<matplotlib.figure.Figure at 0x10cbe81d0>"
      ]
     },
     "metadata": {},
     "output_type": "display_data"
    }
   ],
   "source": [
    "modelFit(data_scaled, y['valence_mean'])\n",
    "#modelFit(data, y['valence_mean'])"
   ]
  },
  {
   "cell_type": "markdown",
   "metadata": {
    "deletable": true,
    "editable": true
   },
   "source": [
    "# Run best model "
   ]
  },
  {
   "cell_type": "code",
   "execution_count": 33,
   "metadata": {
    "collapsed": true,
    "deletable": true,
    "editable": true
   },
   "outputs": [],
   "source": [
    "from sklearn.model_selection import train_test_split"
   ]
  },
  {
   "cell_type": "code",
   "execution_count": 34,
   "metadata": {
    "collapsed": true,
    "deletable": true,
    "editable": true
   },
   "outputs": [],
   "source": [
    "def create_model(model, data, y):\n",
    "    X_train, X_test, y_train, y_test = train_test_split(data, y, test_size=0.33, random_state=7)\n",
    "    model.fit(X_train, y_train)\n",
    "    y_pred = model.predict(X_test)\n",
    "    sns.regplot(x=y_pred, y=y_test)\n",
    "    print(np.corrcoef(y_pred, y_test))\n",
    "    print(mean_squared_error(y_test, y_pred))"
   ]
  },
  {
   "cell_type": "code",
   "execution_count": 35,
   "metadata": {
    "collapsed": true,
    "deletable": true,
    "editable": true
   },
   "outputs": [],
   "source": [
    "clf_valence = XGBRegressor()"
   ]
  },
  {
   "cell_type": "code",
   "execution_count": 37,
   "metadata": {
    "collapsed": false,
    "deletable": true,
    "editable": true
   },
   "outputs": [
    {
     "name": "stdout",
     "output_type": "stream",
     "text": [
      "[[ 1.          0.63370687]\n",
      " [ 0.63370687  1.        ]]\n",
      "0.752259316292\n"
     ]
    },
    {
     "data": {
      "image/png": "[encoded data removed]",
      "text/plain": [
       "<matplotlib.figure.Figure at 0x10d22bb00>"
      ]
     },
     "metadata": {},
     "output_type": "display_data"
    }
   ],
   "source": [
    "create_model(clf_valence, data_scaled.as_matrix(), np.array(y['valence_mean']))"
   ]
  },
  {
   "cell_type": "code",
   "execution_count": 38,
   "metadata": {
    "collapsed": false,
    "deletable": true,
    "editable": true
   },
   "outputs": [
    {
     "name": "stdout",
     "output_type": "stream",
     "text": [
      "[[ 1.          0.61838614]\n",
      " [ 0.61838614  1.        ]]\n",
      "0.962337085329\n"
     ]
    },
    {
     "data": {
      "image/png": "[encoded data removed]",
      "text/plain": [
       "<matplotlib.figure.Figure at 0x10d22db38>"
      ]
     },
     "metadata": {},
     "output_type": "display_data"
    }
   ],
   "source": [
    "clf_arousal = XGBRegressor()\n",
    "create_model(clf_arousal, data_scaled.as_matrix(), np.array(y['arousal_mean']))"
   ]
  },
  {
   "cell_type": "markdown",
   "metadata": {
    "deletable": true,
    "editable": true
   },
   "source": [
    "## Reference about correlation metric to evaluate model\n",
    "http://imgur.com/a/gX89A\n",
    "\n",
    "https://classroom.udacity.com/courses/ud501/lessons/4802891095/concepts/49196894850923"
   ]
  },
  {
   "cell_type": "markdown",
   "metadata": {
    "deletable": true,
    "editable": true
   },
   "source": [
    "## Check important features"
   ]
  },
  {
   "cell_type": "code",
   "execution_count": null,
   "metadata": {
    "collapsed": true,
    "deletable": true,
    "editable": true
   },
   "outputs": [],
   "source": [
    "from pylab import rcParams\n",
    "rcParams['figure.figsize'] = 30, 20"
   ]
  },
  {
   "cell_type": "code",
   "execution_count": null,
   "metadata": {
    "collapsed": false,
    "deletable": true,
    "editable": true
   },
   "outputs": [],
   "source": [
    "plot_importance(clf_valence, height=0.5)\n",
    "plt.savefig('feas_importance.png')\n",
    "plt.show()"
   ]
  },
  {
   "cell_type": "code",
   "execution_count": null,
   "metadata": {
    "collapsed": false,
    "deletable": true,
    "editable": true
   },
   "outputs": [],
   "source": [
    "clf_valence.booster().get_fscore()"
   ]
  },
  {
   "cell_type": "markdown",
   "metadata": {
    "deletable": true,
    "editable": true
   },
   "source": [
    "# Remove feature and re-run model"
   ]
  },
  {
   "cell_type": "code",
   "execution_count": null,
   "metadata": {
    "collapsed": true,
    "deletable": true,
    "editable": true
   },
   "outputs": [],
   "source": [
    "data_removed = data.copy()"
   ]
  },
  {
   "cell_type": "code",
   "execution_count": null,
   "metadata": {
    "collapsed": true,
    "deletable": true,
    "editable": true
   },
   "outputs": [],
   "source": [
    "del data_removed['fea13']\n",
    "del data_removed['fea22']"
   ]
  },
  {
   "cell_type": "code",
   "execution_count": null,
   "metadata": {
    "collapsed": false,
    "deletable": true,
    "editable": true
   },
   "outputs": [],
   "source": [
    "clf_valence_removed = XGBRegressor()\n",
    "create_model(clf_valence_removed, data_removed.as_matrix(), np.array(y['valence_mean']))"
   ]
  },
  {
   "cell_type": "code",
   "execution_count": null,
   "metadata": {
    "collapsed": false,
    "deletable": true,
    "editable": true
   },
   "outputs": [],
   "source": [
    "clf_valence_removed.booster().get_fscore()"
   ]
  },
  {
   "cell_type": "markdown",
   "metadata": {
    "deletable": true,
    "editable": true,
    "heading_collapsed": true
   },
   "source": [
    "# Experiment with different model and show error rate"
   ]
  },
  {
   "cell_type": "code",
   "execution_count": null,
   "metadata": {
    "collapsed": true,
    "deletable": true,
    "editable": true,
    "hidden": true
   },
   "outputs": [],
   "source": [
    "clf_arousal_ridge = linear_model.Ridge()\n",
    "create_model(clf_arousal_ridge, data_scaled, np.array(y['arousal_mean']))"
   ]
  },
  {
   "cell_type": "code",
   "execution_count": null,
   "metadata": {
    "collapsed": true,
    "deletable": true,
    "editable": true,
    "hidden": true
   },
   "outputs": [],
   "source": [
    "df_compare_arousal = pd.DataFrame({\"arousal_target\": y_test['arousal_mean'], \"arousal_pred\": y_pred_arousal})"
   ]
  },
  {
   "cell_type": "code",
   "execution_count": null,
   "metadata": {
    "collapsed": false,
    "deletable": true,
    "editable": true,
    "hidden": true
   },
   "outputs": [],
   "source": [
    "df_compare_arousal['ErrorRate']= df_compare_arousal.apply(lambda row: abs(row['arousal_pred']-row['arousal_target'])/row['arousal_target'], axis=1)\n",
    "df_compare_arousal.describe()"
   ]
  },
  {
   "cell_type": "code",
   "execution_count": null,
   "metadata": {
    "collapsed": true,
    "deletable": true,
    "editable": true,
    "hidden": true
   },
   "outputs": [],
   "source": [
    "df_compare = pd.DataFrame({\"valence_target\": y_test['valence_mean'], \"valence_pred\": y_pred})"
   ]
  },
  {
   "cell_type": "code",
   "execution_count": null,
   "metadata": {
    "collapsed": false,
    "deletable": true,
    "editable": true,
    "hidden": true
   },
   "outputs": [],
   "source": [
    "df_compare.head()"
   ]
  },
  {
   "cell_type": "code",
   "execution_count": null,
   "metadata": {
    "collapsed": true,
    "deletable": true,
    "editable": true,
    "hidden": true
   },
   "outputs": [],
   "source": [
    "df_compare['ErrorRate']= df_compare.apply(lambda row: abs(row['valence_pred']-row['valence_target'])/row['valence_target'], axis=1)"
   ]
  },
  {
   "cell_type": "code",
   "execution_count": null,
   "metadata": {
    "collapsed": false,
    "deletable": true,
    "editable": true,
    "hidden": true
   },
   "outputs": [],
   "source": [
    "df_compare['ErrorRate'].describe()"
   ]
  },
  {
   "cell_type": "code",
   "execution_count": null,
   "metadata": {
    "collapsed": false,
    "deletable": true,
    "editable": true,
    "hidden": true
   },
   "outputs": [],
   "source": [
    "clfRandom = RandomForestRegressor()\n",
    "clfRandom.fit(X_train, y_train['valence_mean'])\n",
    "y_pred_valence_RandomF = clfRandom.predict(X_test)\n",
    "mean_squared_error(y_test['valence_mean'], y_pred_valence_RandomF)"
   ]
  },
  {
   "cell_type": "code",
   "execution_count": null,
   "metadata": {
    "collapsed": true,
    "deletable": true,
    "editable": true,
    "hidden": true
   },
   "outputs": [],
   "source": [
    "import pickle"
   ]
  },
  {
   "cell_type": "code",
   "execution_count": null,
   "metadata": {
    "collapsed": true,
    "deletable": true,
    "editable": true,
    "hidden": true
   },
   "outputs": [],
   "source": [
    "def save_model(model, fileName):\n",
    "    f = open('./'+fileName, 'wb')\n",
    "    pickle.dump(model, f)"
   ]
  },
  {
   "cell_type": "code",
   "execution_count": null,
   "metadata": {
    "collapsed": true,
    "deletable": true,
    "editable": true,
    "hidden": true
   },
   "outputs": [],
   "source": [
    "save_model(clf_valence, \"valence_model.sav\")\n",
    "save_model(clf_arousal, \"arousal_model.sav\")"
   ]
  },
  {
   "cell_type": "markdown",
   "metadata": {
    "deletable": true,
    "editable": true
   },
   "source": [
    "# Fine Tune"
   ]
  },
  {
   "cell_type": "code",
   "execution_count": null,
   "metadata": {
    "collapsed": true,
    "deletable": true,
    "editable": true
   },
   "outputs": [],
   "source": [
    "feature = [ 0.65519038, -0.07628927, -0.77544214, -0.03422748, -0.76500356,\n",
    "        0.62507754,  0.2090739 , -0.23296932,  0.16704597,  0.30380077,\n",
    "       -0.12093146,  0.84937125,  0.6236305 , -0.73196571,  1.23342518,\n",
    "        0.64840883, -0.29515861,  0.66941854,  0.67054655,  0.07763418,\n",
    "        0.35497932,  0.65683281, -0.80359708, -0.09453569,  0.11972583,\n",
    "        0.34251675,  0.6077862 , -0.7165535 , -0.99956607, -0.43536672,\n",
    "        0.91738949,  0.36843219,  0.42423349]"
   ]
  },
  {
   "cell_type": "code",
   "execution_count": null,
   "metadata": {
    "collapsed": true,
    "deletable": true,
    "editable": true
   },
   "outputs": [],
   "source": [
    "feature2= data.loc[2,:]"
   ]
  },
  {
   "cell_type": "code",
   "execution_count": null,
   "metadata": {
    "collapsed": false,
    "deletable": true,
    "editable": true
   },
   "outputs": [],
   "source": [
    "np.array(feature2)"
   ]
  },
  {
   "cell_type": "code",
   "execution_count": null,
   "metadata": {
    "collapsed": false,
    "deletable": true,
    "editable": true
   },
   "outputs": [],
   "source": [
    "y.loc[2,:]"
   ]
  },
  {
   "cell_type": "code",
   "execution_count": null,
   "metadata": {
    "collapsed": true,
    "deletable": true,
    "editable": true
   },
   "outputs": [],
   "source": [
    "model = pickle.load(open('./valence_model.sav', 'rb'))"
   ]
  },
  {
   "cell_type": "code",
   "execution_count": null,
   "metadata": {
    "collapsed": false,
    "deletable": true,
    "editable": true
   },
   "outputs": [],
   "source": [
    "model.predict(feature2)"
   ]
  },
  {
   "cell_type": "code",
   "execution_count": null,
   "metadata": {
    "collapsed": true,
    "deletable": true,
    "editable": true
   },
   "outputs": [],
   "source": [
    "# Create k-fold\n",
    "#kf = KFold(n_splits=5, shuffle=True, random_state=7).split(X_train)\n",
    "#scorer = make_scorer(mean_squared_error, greater_is_better=True)"
   ]
  },
  {
   "cell_type": "code",
   "execution_count": null,
   "metadata": {
    "collapsed": true,
    "deletable": true,
    "editable": true
   },
   "outputs": [],
   "source": [
    "def paraSearch(model, data, y, parameters):\n",
    "    scorer = make_scorer(mean_squared_error, greater_is_better=True)\n",
    "    X_train, X_test, y_train, y_test = train_test_split(data, y, test_size=0.33, random_state=7)\n",
    "    gs = GridSearchCV(model, parameters, cv=5, scoring=scorer)\n",
    "    gs.fit(X_train, y_train)\n",
    "    return gs.best_params_, gs.best_score_, gs.best_estimator_"
   ]
  },
  {
   "cell_type": "code",
   "execution_count": null,
   "metadata": {
    "collapsed": true,
    "deletable": true,
    "editable": true
   },
   "outputs": [],
   "source": [
    "#XGBRegressor\n",
    "xgb_params = {\n",
    "    'colsample_bytree': [0.5, 0.7, 0.9],\n",
    "    'subsample': [0.5, 0.6, 0.7],\n",
    "    'learning_rate': [0.075, 0.05, 0.03, 0.01, 0.1, 0.5],\n",
    "    'max_depth': [1, 3, 5, 7, 9, 11, 13],\n",
    "    'min_child_weight': [1, 3, 5],\n",
    "    'n_estimators': [50, 100, 150, 200],\n",
    "    'reg_alpha': [0, 0.1, 0.3, 0.5, 0.7, 1],\n",
    "    'reg_lambda': [0.1, 0.5, 0.7, 1],\n",
    "}"
   ]
  },
  {
   "cell_type": "code",
   "execution_count": null,
   "metadata": {
    "collapsed": false,
    "deletable": true,
    "editable": true
   },
   "outputs": [],
   "source": [
    "paraSearch(clf_valence, data, y['valence_mean'], xgb_params)"
   ]
  },
  {
   "cell_type": "code",
   "execution_count": null,
   "metadata": {
    "collapsed": false,
    "deletable": true,
    "editable": true
   },
   "outputs": [],
   "source": [
    "clf_valence"
   ]
  },
  {
   "cell_type": "code",
   "execution_count": null,
   "metadata": {
    "collapsed": true,
    "deletable": true,
    "editable": true
   },
   "outputs": [],
   "source": [
    "clf_finetune =  XGBRegressor(base_score=0.5, colsample_bylevel=1, colsample_bytree=0.7,\n",
    "        gamma=0, learning_rate=0.01, max_delta_step=0, max_depth=13,\n",
    "        min_child_weight=1, missing=None, n_estimators=50, nthread=-1,\n",
    "        objective='reg:linear', reg_alpha=0, reg_lambda=0.5,\n",
    "        scale_pos_weight=1, seed=0, silent=True, subsample=0.5)"
   ]
  },
  {
   "cell_type": "code",
   "execution_count": null,
   "metadata": {
    "collapsed": false,
    "deletable": true,
    "editable": true
   },
   "outputs": [],
   "source": [
    "create_model(clf_finetune, data.as_matrix(), y['arousal_mean'])"
   ]
  },
  {
   "cell_type": "code",
   "execution_count": null,
   "metadata": {
    "collapsed": true,
    "deletable": true,
    "editable": true
   },
   "outputs": [],
   "source": [
    "y_pred_finetune = clf_finetune.predict(data.as_matrix())"
   ]
  },
  {
   "cell_type": "code",
   "execution_count": null,
   "metadata": {
    "collapsed": true,
    "deletable": true,
    "editable": true
   },
   "outputs": [],
   "source": [
    "dfPredValenceFinetune=pd.DataFrame(y_pred_finetune, columns=['valence_mean_predicted'])"
   ]
  },
  {
   "cell_type": "code",
   "execution_count": null,
   "metadata": {
    "collapsed": true,
    "deletable": true,
    "editable": true
   },
   "outputs": [],
   "source": [
    "import pickle"
   ]
  },
  {
   "cell_type": "code",
   "execution_count": null,
   "metadata": {
    "collapsed": true,
    "deletable": true,
    "editable": true
   },
   "outputs": [],
   "source": [
    "pickle.dump(dfPredValenceFinetune, open('./dfPredValenceFinetune', 'wb'))"
   ]
  },
  {
   "cell_type": "code",
   "execution_count": null,
   "metadata": {
    "collapsed": true,
    "deletable": true,
    "editable": true
   },
   "outputs": [],
   "source": [
    "dfPredValenceFinetune.to_csv('./y_pred_arousal_finetune.csv')"
   ]
  },
  {
   "cell_type": "code",
   "execution_count": null,
   "metadata": {
    "collapsed": false,
    "deletable": true,
    "editable": true
   },
   "outputs": [],
   "source": [
    "plt.plot(y['valence_mean'], y_pred_finetune)"
   ]
  },
  {
   "cell_type": "code",
   "execution_count": null,
   "metadata": {
    "collapsed": true,
    "deletable": true,
    "editable": true
   },
   "outputs": [],
   "source": [
    "mean_squared_error(y_test['valence_mean'], y_pred_finetune)"
   ]
  },
  {
   "cell_type": "code",
   "execution_count": null,
   "metadata": {
    "collapsed": true,
    "deletable": true,
    "editable": true
   },
   "outputs": [],
   "source": [
    "from hpsklearn import HyperoptEstimator"
   ]
  },
  {
   "cell_type": "code",
   "execution_count": null,
   "metadata": {
    "collapsed": true,
    "deletable": true,
    "editable": true
   },
   "outputs": [],
   "source": [
    "from hyperopt import hp"
   ]
  },
  {
   "cell_type": "code",
   "execution_count": null,
   "metadata": {
    "collapsed": true,
    "deletable": true,
    "editable": true
   },
   "outputs": [],
   "source": [
    "from hpsklearn import any_regressor"
   ]
  },
  {
   "cell_type": "code",
   "execution_count": null,
   "metadata": {
    "collapsed": true,
    "deletable": true,
    "editable": true
   },
   "outputs": [],
   "source": [
    "def run_experiments(\n",
    "        experimental_run,\n",
    "        dataset,\n",
    "        model_class=XGBR,\n",
    "        loss=LOG_LOSS,\n",
    "        test_metric=accuracy_score,\n",
    "        random_state=None,\n",
    "        dataset_name=None):\n",
    "    \"\"\"\n",
    "    Basic experimental framework.\n",
    "    Parameters\n",
    "    ----------\n",
    "    experimental_run : list of tuples\n",
    "        These tuples should have exactly three members: the first one\n",
    "        of `grid_search`, `randomized_search`, `hyperopt_search`,\n",
    "        `skopt_gp_minimize`, `skopt_forest_minimize`, or\n",
    "        `skopt_forest_gbrt`, the second an appropriate `param_grid`\n",
    "        dict for that function, and the third a dict specifying\n",
    "        keyword arguments to the search function.\n",
    "    dataset : (np.array, iterable)\n",
    "        A dataset (X, y) where `X` has dimension\n",
    "        `(n_samples, n_features)` and `y` has\n",
    "         dimension `n_samples`.\n",
    "    \n",
    "    model_class : classifier\n",
    "        A classifier model in the mode of `sklearn`, with at least\n",
    "        `fit` and `predict` methods operating on things like\n",
    "        `X` and `y`.\n",
    "    loss : function or string\n",
    "        An appropriate loss function or string recognizable by\n",
    "        `sklearn.cross_validation.cross_val_score`. In `sklearn`, scores\n",
    "        are positive and losses are negative because they maximize,\n",
    "        but here we are minimizing so we always want smaller to mean\n",
    "        better.\n",
    "    test_metric : function\n",
    "        An `sklearn.metrics` function.\n",
    "    random_state : int\n",
    "    dataset_name : str or None\n",
    "        Informal name to give the dataset. Purely for\n",
    "        book-keeping.\n",
    "    Returns\n",
    "    -------\n",
    "    list of dict\n",
    "       Each dict is a results dictionary of the sort returned\n",
    "       by `assess`.\n",
    "    \"\"\"                    \n",
    "    X, y = dataset    \n",
    "    skf = get_cross_validation_indices(\n",
    "        X, y, random_state=random_state)        \n",
    "    all_results = []\n",
    "    # This loop can easily be parallelized, but doing so can\n",
    "    # be tricky on some systems, since `cross_val_score`\n",
    "    # calls `joblib` even if `n_jobs=1`, resulting in\n",
    "    # nested parallel jobs even if there is no actual\n",
    "    # parallelization elsewhere in the experimental run.\n",
    "    for search_func, param_grid, kwargs in experimental_run:\n",
    "        print(search_func.__name__)\n",
    "        all_results.append(\n",
    "            assess(\n",
    "                X, y,                \n",
    "                search_func=search_func, \n",
    "                model_class=XGBClassifier, \n",
    "                param_grid=param_grid,\n",
    "                xval_indices=skf,\n",
    "                loss=loss,\n",
    "                test_metric=test_metric,                \n",
    "                dataset_name=dataset_name,\n",
    "                search_func_args=kwargs))\n",
    "    return all_results\n"
   ]
  },
  {
   "cell_type": "code",
   "execution_count": null,
   "metadata": {
    "collapsed": true,
    "deletable": true,
    "editable": true
   },
   "outputs": [],
   "source": [
    "a = np.array([1,2,3])"
   ]
  },
  {
   "cell_type": "code",
   "execution_count": null,
   "metadata": {
    "collapsed": false,
    "deletable": true,
    "editable": true
   },
   "outputs": [],
   "source": [
    "a.var"
   ]
  },
  {
   "cell_type": "code",
   "execution_count": null,
   "metadata": {
    "collapsed": false,
    "deletable": true,
    "editable": true
   },
   "outputs": [],
   "source": [
    "a.itemset()"
   ]
  },
  {
   "cell_type": "code",
   "execution_count": null,
   "metadata": {
    "collapsed": true,
    "deletable": true,
    "editable": true
   },
   "outputs": [],
   "source": []
  }
 ],
 "metadata": {
  "kernelspec": {
   "display_name": "Python 3",
   "language": "python",
   "name": "python3"
  },
  "language_info": {
   "codemirror_mode": {
    "name": "ipython",
    "version": 3
   },
   "file_extension": ".py",
   "mimetype": "text/x-python",
   "name": "python",
   "nbconvert_exporter": "python",
   "pygments_lexer": "ipython3",
   "version": "3.5.2"
  },
  "toc": {
   "colors": {
    "hover_highlight": "#DAA520",
    "running_highlight": "#FF0000",
    "selected_highlight": "#FFD700"
   },
   "moveMenuLeft": true,
   "nav_menu": {
    "height": "12px",
    "width": "252px"
   },
   "navigate_menu": true,
   "number_sections": true,
   "sideBar": true,
   "threshold": 4,
   "toc_cell": false,
   "toc_section_display": "block",
   "toc_window_display": false
  }
 },
 "nbformat": 4,
 "nbformat_minor": 2
}
