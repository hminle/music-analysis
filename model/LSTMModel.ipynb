{
 "cells": [
  {
   "cell_type": "code",
   "execution_count": 1,
   "metadata": {
    "collapsed": true
   },
   "outputs": [],
   "source": [
    "import os\n",
    "import pandas as pd\n",
    "import numpy as np\n",
    "import pickle\n",
    "from decimal import Decimal\n",
    "import time\n",
    "import argparse\n",
    "from random import shuffle"
   ]
  },
  {
   "cell_type": "code",
   "execution_count": 2,
   "metadata": {
    "collapsed": true
   },
   "outputs": [],
   "source": [
    "import torch\n",
    "import torch.nn as nn\n",
    "import torch.nn.functional as F\n",
    "from torch.autograd import Variable\n",
    "import torch.optim as optim"
   ]
  },
  {
   "cell_type": "markdown",
   "metadata": {},
   "source": [
    "# Prepare Data"
   ]
  },
  {
   "cell_type": "code",
   "execution_count": 3,
   "metadata": {
    "collapsed": true
   },
   "outputs": [],
   "source": [
    "parser = {\n",
    "    'epochs': 3,\n",
    "    'batch_size': 1,\n",
    "    'lr': 0.01,\n",
    "    'cuda': True,\n",
    "    'seed': 7,\n",
    "    'results': './results',\n",
    "    'model_zoo': './model_zoo',\n",
    "    'best_model': '/best_model_test.pth'\n",
    "}\n",
    "\n",
    "args = argparse.Namespace(**parser)\n",
    "args.cuda = args.cuda and torch.cuda.is_available()\n",
    "if not os.path.isdir(args.results):\n",
    "    os.makedirs(args.results)\n",
    "if not os.path.isdir(args.model_zoo):\n",
    "    os.makedirs(args.model_zoo) \n",
    "torch.manual_seed(args.seed)\n",
    "if args.cuda:\n",
    "    torch.cuda.manual_seed(args.seed)"
   ]
  },
  {
   "cell_type": "markdown",
   "metadata": {
    "heading_collapsed": true
   },
   "source": [
    "## Read CSV"
   ]
  },
  {
   "cell_type": "code",
   "execution_count": 7,
   "metadata": {
    "collapsed": true,
    "hidden": true
   },
   "outputs": [],
   "source": [
    "songs_1_2000 = pd.read_csv('./static_annotations_averaged_songs_1_2000.csv', sep='\\s*,\\s*', engine='python')"
   ]
  },
  {
   "cell_type": "code",
   "execution_count": 8,
   "metadata": {
    "collapsed": true,
    "hidden": true
   },
   "outputs": [],
   "source": [
    "song_2000s = pd.read_csv('./static_annotations_averaged_songs_2000_2058.csv', sep='\\s*,\\s*', engine='python')"
   ]
  },
  {
   "cell_type": "code",
   "execution_count": 9,
   "metadata": {
    "collapsed": true,
    "hidden": true
   },
   "outputs": [],
   "source": [
    "del songs_1_2000['valence_std']\n",
    "del songs_1_2000['arousal_std']\n",
    "for header in list(song_2000s.columns.values):\n",
    "    if header != 'song_id' and header != 'valence_mean' and header != 'arousal_mean':\n",
    "        del song_2000s[header]"
   ]
  },
  {
   "cell_type": "code",
   "execution_count": 10,
   "metadata": {
    "collapsed": true,
    "hidden": true
   },
   "outputs": [],
   "source": [
    "df = songs_1_2000.append(song_2000s)"
   ]
  },
  {
   "cell_type": "code",
   "execution_count": 10,
   "metadata": {
    "collapsed": true,
    "hidden": true
   },
   "outputs": [],
   "source": [
    "# Save our dataframe\n",
    "#df_out = open(\"./df_songs\", \"wb\")\n",
    "#pickle.dump(df, df_out)"
   ]
  },
  {
   "cell_type": "markdown",
   "metadata": {},
   "source": [
    "# Read data"
   ]
  },
  {
   "cell_type": "code",
   "execution_count": 11,
   "metadata": {
    "collapsed": true
   },
   "outputs": [],
   "source": [
    "df_out = open(\"./dataframe/df_songs\", \"rb\")\n",
    "df = pickle.load(df_out)"
   ]
  },
  {
   "cell_type": "code",
   "execution_count": 12,
   "metadata": {
    "collapsed": true
   },
   "outputs": [],
   "source": [
    "def getValenceArousal(df, songId):\n",
    "    valence = df.loc[df['song_id'] == songId]['valence_mean'].tolist()[0]\n",
    "    arousal = df.loc[df['song_id'] == songId]['arousal_mean'].tolist()[0]\n",
    "    target = (valence/10, arousal/10)\n",
    "    return list(target)"
   ]
  },
  {
   "cell_type": "code",
   "execution_count": 13,
   "metadata": {
    "collapsed": true
   },
   "outputs": [],
   "source": [
    "def getValence(df, songId):\n",
    "    valence = df.loc[df['song_id'] == songId]['valence_mean'].tolist()[0]\n",
    "    target = valence/10\n",
    "    return [target]"
   ]
  },
  {
   "cell_type": "code",
   "execution_count": 15,
   "metadata": {
    "collapsed": true
   },
   "outputs": [],
   "source": [
    "listSongs = os.listdir('./my_features/')"
   ]
  },
  {
   "cell_type": "code",
   "execution_count": 34,
   "metadata": {
    "collapsed": true
   },
   "outputs": [],
   "source": [
    "songId = df['song_id']"
   ]
  },
  {
   "cell_type": "code",
   "execution_count": 35,
   "metadata": {
    "collapsed": true
   },
   "outputs": [],
   "source": [
    "songId = songId.tolist()"
   ]
  },
  {
   "cell_type": "code",
   "execution_count": 18,
   "metadata": {
    "collapsed": true
   },
   "outputs": [],
   "source": [
    "def getLongterm(songId):\n",
    "    f = open(\"./my_features/\"+str(songId), \"rb\")\n",
    "    longterm = pickle.load(f, encoding='latin1')\n",
    "    longterm = list(map(roundUp, longterm))\n",
    "    return longterm"
   ]
  },
  {
   "cell_type": "code",
   "execution_count": 14,
   "metadata": {
    "collapsed": true
   },
   "outputs": [],
   "source": [
    "def getShortTerm(songId):\n",
    "    f = open(\"./my_features/\"+str(songId), 'rb')\n",
    "    shortterms = pickle.load(f, encoding='latin1')\n",
    "    return shortterms"
   ]
  },
  {
   "cell_type": "code",
   "execution_count": 15,
   "metadata": {
    "collapsed": true
   },
   "outputs": [],
   "source": [
    "def roundUp(x):\n",
    "    return round(float(Decimal(x)), 2)"
   ]
  },
  {
   "cell_type": "markdown",
   "metadata": {},
   "source": [
    "# Get alll short term and scale it"
   ]
  },
  {
   "cell_type": "code",
   "execution_count": 8,
   "metadata": {
    "collapsed": true
   },
   "outputs": [],
   "source": [
    "from sklearn.preprocessing import MinMaxScaler"
   ]
  },
  {
   "cell_type": "code",
   "execution_count": 22,
   "metadata": {
    "collapsed": true
   },
   "outputs": [],
   "source": [
    "scaler = MinMaxScaler(feature_range=(0,1))"
   ]
  },
  {
   "cell_type": "code",
   "execution_count": 23,
   "metadata": {
    "collapsed": true
   },
   "outputs": [],
   "source": [
    "all_shortterms = []\n",
    "for i in songId:\n",
    "    all_shortterms += (getShortTerm(i))"
   ]
  },
  {
   "cell_type": "code",
   "execution_count": 24,
   "metadata": {},
   "outputs": [
    {
     "data": {
      "text/plain": [
       "MinMaxScaler(copy=True, feature_range=(0, 1))"
      ]
     },
     "execution_count": 24,
     "metadata": {},
     "output_type": "execute_result"
    }
   ],
   "source": [
    "scaler.fit(all_shortterms)"
   ]
  },
  {
   "cell_type": "code",
   "execution_count": 7,
   "metadata": {
    "collapsed": true
   },
   "outputs": [],
   "source": [
    "import pickle"
   ]
  },
  {
   "cell_type": "code",
   "execution_count": 866,
   "metadata": {
    "collapsed": true
   },
   "outputs": [],
   "source": [
    "def save_scaler(scaler, fileName):\n",
    "    f = open('./'+fileName, 'wb')\n",
    "    pickle.dump(scaler, f, protocol=2)"
   ]
  },
  {
   "cell_type": "code",
   "execution_count": 867,
   "metadata": {
    "collapsed": true
   },
   "outputs": [],
   "source": [
    "save_scaler(scaler, \"./model_zoo/scalerForShortTerms.sav\")"
   ]
  },
  {
   "cell_type": "markdown",
   "metadata": {},
   "source": [
    "## Load scaler"
   ]
  },
  {
   "cell_type": "code",
   "execution_count": 9,
   "metadata": {
    "collapsed": true
   },
   "outputs": [],
   "source": [
    "scaler = pickle.load(open('./model_zoo/scalerForShortTerms.sav', 'rb'))"
   ]
  },
  {
   "cell_type": "markdown",
   "metadata": {
    "collapsed": true
   },
   "source": [
    "# Model"
   ]
  },
  {
   "cell_type": "code",
   "execution_count": 4,
   "metadata": {
    "collapsed": true
   },
   "outputs": [],
   "source": [
    "class LSTMModel(nn.Module):\n",
    "    \n",
    "    def __init__(self, d_input, d_hidden_lstm, num_layer, d_output):\n",
    "        super(LSTMModel, self).__init__()\n",
    "        self.lstm1 = nn.LSTM(d_input, d_hidden_lstm, num_layer)\n",
    "        self.linear1 = nn.Linear(d_hidden_lstm*num_layer, d_hidden_lstm*num_layer)\n",
    "        self.linear2 = nn.Linear(d_hidden_lstm*num_layer, d_hidden_lstm*num_layer)\n",
    "        self.linear3 = nn.Linear(d_hidden_lstm*num_layer, d_output)\n",
    "        self.d_hidden_lstm = d_hidden_lstm\n",
    "        self.num_layer = num_layer\n",
    "\n",
    "    def forward(self, x, cuda=False):\n",
    "        \n",
    "        tt = torch.cuda if cuda else torch\n",
    "        h = Variable(tt.FloatTensor(self.num_layer, x.size(1),self.d_hidden_lstm).zero_(), requires_grad=False)\n",
    "        c = Variable(tt.FloatTensor(self.num_layer, x.size(1), self.d_hidden_lstm).zero_(), requires_grad=False)\n",
    "        _, (h_t, c_t) = self.lstm1(x, (h, c))\n",
    "        #h_t = F.tanh(h_t.squeeze(0))\n",
    "        h_t = F.tanh(h_t)\n",
    "        out = F.tanh(self.linear1(h_t.view(-1, self.d_hidden_lstm*self.num_layer)))\n",
    "        out = F.tanh(self.linear2(out))\n",
    "        out = self.linear3(out)\n",
    "        return out\n",
    "    "
   ]
  },
  {
   "cell_type": "code",
   "execution_count": 164,
   "metadata": {
    "collapsed": true
   },
   "outputs": [],
   "source": [
    "def train(epoch, model, songId, optimizer, criterion, start_time, config):\n",
    "    train_loss = 0\n",
    "    n_total = 0\n",
    "    listSongId = songId.copy()\n",
    "    #shuffle(listSongId)\n",
    "    listSongId_val = listSongId[:int(len(listSongId)* 3/20)]\n",
    "    listSongId_train = listSongId[int(len(listSongId)* 3/20):]\n",
    "    shuffle(listSongId_val)\n",
    "    shuffle(listSongId_train)\n",
    "    tt = torch.cuda if config.cuda else torch\n",
    "    for i in listSongId_train:\n",
    "        model.train()\n",
    "        target = tt.FloatTensor(getValenceArousal(df=df, songId=i))\n",
    "        shortterms = tt.FloatTensor(scaler.transform(getShortTerm(i)))\n",
    "        if config.cuda:\n",
    "            shorttermsVar = shortterms.cuda()\n",
    "            target = target.cuda()\n",
    "        target = Variable(target).view(-1,2)\n",
    "        shorttermsVar = Variable(shortterms)\n",
    "        shorttermsVar = shorttermsVar.view(shorttermsVar.size(0),1,33)\n",
    "            \n",
    "        output = model(shorttermsVar, config.cuda)\n",
    "        \n",
    "        loss = criterion(output, target)\n",
    "        train_loss += loss.data[0]*10\n",
    "        optimizer.zero_grad()\n",
    "        loss.backward()\n",
    "        torch.nn.utils.clip_grad_norm(model.parameters(), 3)\n",
    "        optimizer.step()\n",
    "        n_total += 1\n",
    "\n",
    "    train_loss /= n_total\n",
    "    valid_loss, valence_e_rate, arousal_e_rate = validate(model, listSongId_val, criterion, config)\n",
    "    \n",
    "    print(\"=> EPOCH {}|Time: {:3.0f}s | Song Id: {:5} | Train loss: {:.4f} | Val loss: {:.4f}\"\n",
    "          \"| Valence: {:.4f} | Arousal: {:.4f}\"\n",
    "                  .format(epoch, time.time()-start_time, i, train_loss, valid_loss, valence_e_rate, arousal_e_rate))\n",
    "    return valid_loss"
   ]
  },
  {
   "cell_type": "code",
   "execution_count": 150,
   "metadata": {
    "collapsed": true
   },
   "outputs": [],
   "source": [
    "def validate(model, listSongId_val, criterion, config):\n",
    "    model.eval()\n",
    "    valid_loss = 0\n",
    "    valence_rate = 0\n",
    "    arousal_rate = 0\n",
    "    tt = torch.cuda if config.cuda else torch\n",
    "    n_total = len(listSongId_val)\n",
    "    for i in listSongId_val:\n",
    "        target = tt.FloatTensor(getValenceArousal(df=df, songId=i))\n",
    "        shortterms = tt.FloatTensor(scaler.transform(getShortTerm(i)))\n",
    "        if config.cuda:\n",
    "            shorttermsVar = shortterms.cuda()\n",
    "            target = target.cuda()\n",
    "        target = Variable(target).view(-1,2)\n",
    "        shorttermsVar = Variable(shortterms)\n",
    "        shorttermsVar = shorttermsVar.view(shorttermsVar.size(0),1,33)\n",
    "        \n",
    "            \n",
    "        output = model(shorttermsVar, config.cuda)\n",
    "        loss = criterion(output, target)\n",
    "        valid_loss += loss.data[0]*10\n",
    "        valence_error_rate = abs(output.data[0,0]-target.data[0,0])/target.data[0,0]\n",
    "        arousal_error_rate = abs(output.data[0,1]-target.data[0,1])/target.data[0,1]\n",
    "        valence_rate += valence_error_rate\n",
    "        arousal_rate += arousal_error_rate\n",
    "    valid_loss /= n_total\n",
    "    valence_rate /= n_total\n",
    "    arousal_rate /= n_total\n",
    "    return (valid_loss, valence_rate, arousal_rate)"
   ]
  },
  {
   "cell_type": "code",
   "execution_count": 151,
   "metadata": {
    "collapsed": true
   },
   "outputs": [],
   "source": [
    "model = LSTMModel(33, 80, 2, 2)\n",
    "criterion = nn.MSELoss()\n",
    "\n",
    "if args.cuda:\n",
    "    model = model.cuda()\n",
    "    criterion = criterion.cuda()\n",
    "optimizer = optim.Adagrad(model.parameters(), lr=0.001)"
   ]
  },
  {
   "cell_type": "code",
   "execution_count": 152,
   "metadata": {},
   "outputs": [
    {
     "data": {
      "text/plain": [
       "<bound method Module.parameters of LSTMModel (\n",
       "  (lstm1): LSTM(33, 80, num_layers=2)\n",
       "  (linear1): Linear (160 -> 160)\n",
       "  (linear2): Linear (160 -> 160)\n",
       "  (linear3): Linear (160 -> 2)\n",
       ")>"
      ]
     },
     "execution_count": 152,
     "metadata": {},
     "output_type": "execute_result"
    }
   ],
   "source": [
    "model.parameters"
   ]
  },
  {
   "cell_type": "code",
   "execution_count": 156,
   "metadata": {
    "collapsed": true
   },
   "outputs": [],
   "source": [
    "optimizer = optim.Adagrad(model.parameters(), lr=0.0001, weight_decay=1e-4)"
   ]
  },
  {
   "cell_type": "code",
   "execution_count": 174,
   "metadata": {
    "scrolled": true
   },
   "outputs": [
    {
     "name": "stdout",
     "output_type": "stream",
     "text": [
      "=> EPOCH 0|Time:  13s | Song Id:  1432 | Train loss: 0.0687 | Val loss: 0.1010| Valence: 0.1853 | Arousal: 0.2078\n",
      "=> EPOCH 1|Time:  13s | Song Id:   502 | Train loss: 0.0687 | Val loss: 0.1013| Valence: 0.1857 | Arousal: 0.2081\n",
      "=> EPOCH 2|Time:  13s | Song Id:  1308 | Train loss: 0.0686 | Val loss: 0.1016| Valence: 0.1861 | Arousal: 0.2084\n",
      "=> EPOCH 3|Time:  13s | Song Id:   402 | Train loss: 0.0686 | Val loss: 0.1018| Valence: 0.1865 | Arousal: 0.2086\n",
      "=> EPOCH 4|Time:  13s | Song Id:   320 | Train loss: 0.0686 | Val loss: 0.1021| Valence: 0.1867 | Arousal: 0.2089\n",
      "=> EPOCH 5|Time:  13s | Song Id:   597 | Train loss: 0.0685 | Val loss: 0.1023| Valence: 0.1870 | Arousal: 0.2091\n",
      "=> EPOCH 6|Time:  13s | Song Id:  1635 | Train loss: 0.0685 | Val loss: 0.1025| Valence: 0.1873 | Arousal: 0.2093\n",
      "=> EPOCH 7|Time:  13s | Song Id:   921 | Train loss: 0.0685 | Val loss: 0.1027| Valence: 0.1876 | Arousal: 0.2095\n",
      "=> EPOCH 8|Time:  13s | Song Id:  1942 | Train loss: 0.0685 | Val loss: 0.1029| Valence: 0.1878 | Arousal: 0.2097\n",
      "=> EPOCH 9|Time:  13s | Song Id:   954 | Train loss: 0.0685 | Val loss: 0.1031| Valence: 0.1879 | Arousal: 0.2098\n",
      "=> EPOCH 10|Time:  13s | Song Id:  1961 | Train loss: 0.0684 | Val loss: 0.1033| Valence: 0.1881 | Arousal: 0.2100\n",
      "=> EPOCH 11|Time:  13s | Song Id:  1497 | Train loss: 0.0684 | Val loss: 0.1035| Valence: 0.1883 | Arousal: 0.2102\n",
      "=> EPOCH 12|Time:  13s | Song Id:  1576 | Train loss: 0.0684 | Val loss: 0.1037| Valence: 0.1885 | Arousal: 0.2104\n",
      "=> EPOCH 13|Time:  13s | Song Id:  1813 | Train loss: 0.0684 | Val loss: 0.1038| Valence: 0.1888 | Arousal: 0.2105\n",
      "=> EPOCH 14|Time:  13s | Song Id:   970 | Train loss: 0.0684 | Val loss: 0.1040| Valence: 0.1889 | Arousal: 0.2107\n",
      "=> EPOCH 15|Time:  13s | Song Id:  1617 | Train loss: 0.0684 | Val loss: 0.1042| Valence: 0.1892 | Arousal: 0.2108\n",
      "=> EPOCH 16|Time:  13s | Song Id:  1345 | Train loss: 0.0683 | Val loss: 0.1043| Valence: 0.1894 | Arousal: 0.2110\n",
      "=> EPOCH 17|Time:  13s | Song Id:  1283 | Train loss: 0.0683 | Val loss: 0.1045| Valence: 0.1895 | Arousal: 0.2111\n",
      "=> EPOCH 18|Time:  13s | Song Id:  1903 | Train loss: 0.0683 | Val loss: 0.1046| Valence: 0.1897 | Arousal: 0.2113\n",
      "=> EPOCH 19|Time:  13s | Song Id:  1537 | Train loss: 0.0683 | Val loss: 0.1047| Valence: 0.1898 | Arousal: 0.2114\n",
      "=> EPOCH 20|Time:  13s | Song Id:  1245 | Train loss: 0.0683 | Val loss: 0.1049| Valence: 0.1900 | Arousal: 0.2115\n",
      "=> EPOCH 21|Time:  13s | Song Id:  1932 | Train loss: 0.0683 | Val loss: 0.1050| Valence: 0.1901 | Arousal: 0.2116\n",
      "=> EPOCH 22|Time:  13s | Song Id:  1798 | Train loss: 0.0683 | Val loss: 0.1051| Valence: 0.1902 | Arousal: 0.2117\n",
      "=> EPOCH 23|Time:  13s | Song Id:  1469 | Train loss: 0.0683 | Val loss: 0.1053| Valence: 0.1904 | Arousal: 0.2119\n",
      "=> EPOCH 24|Time:  13s | Song Id:   889 | Train loss: 0.0683 | Val loss: 0.1054| Valence: 0.1906 | Arousal: 0.2120\n",
      "=> EPOCH 25|Time:  13s | Song Id:   983 | Train loss: 0.0682 | Val loss: 0.1055| Valence: 0.1907 | Arousal: 0.2121\n",
      "=> EPOCH 26|Time:  13s | Song Id:  1960 | Train loss: 0.0682 | Val loss: 0.1056| Valence: 0.1908 | Arousal: 0.2122\n",
      "=> EPOCH 27|Time:  13s | Song Id:  1979 | Train loss: 0.0682 | Val loss: 0.1057| Valence: 0.1909 | Arousal: 0.2123\n",
      "=> EPOCH 28|Time:  13s | Song Id:  1507 | Train loss: 0.0682 | Val loss: 0.1058| Valence: 0.1910 | Arousal: 0.2124\n",
      "=> EPOCH 29|Time:  13s | Song Id:   453 | Train loss: 0.0682 | Val loss: 0.1059| Valence: 0.1912 | Arousal: 0.2125\n",
      "=> EPOCH 30|Time:  13s | Song Id:  1246 | Train loss: 0.0682 | Val loss: 0.1060| Valence: 0.1913 | Arousal: 0.2126\n",
      "=> EPOCH 31|Time:  13s | Song Id:   744 | Train loss: 0.0682 | Val loss: 0.1061| Valence: 0.1913 | Arousal: 0.2127\n",
      "=> EPOCH 32|Time:  13s | Song Id:   406 | Train loss: 0.0682 | Val loss: 0.1062| Valence: 0.1914 | Arousal: 0.2128\n",
      "=> EPOCH 33|Time:  13s | Song Id:  1823 | Train loss: 0.0682 | Val loss: 0.1063| Valence: 0.1915 | Arousal: 0.2129\n",
      "=> EPOCH 34|Time:  13s | Song Id:  1105 | Train loss: 0.0682 | Val loss: 0.1064| Valence: 0.1916 | Arousal: 0.2130\n",
      "=> EPOCH 35|Time:  13s | Song Id:   486 | Train loss: 0.0682 | Val loss: 0.1065| Valence: 0.1917 | Arousal: 0.2130\n",
      "=> EPOCH 36|Time:  13s | Song Id:   430 | Train loss: 0.0682 | Val loss: 0.1066| Valence: 0.1918 | Arousal: 0.2131\n",
      "=> EPOCH 37|Time:  13s | Song Id:   561 | Train loss: 0.0682 | Val loss: 0.1067| Valence: 0.1919 | Arousal: 0.2132\n",
      "=> EPOCH 38|Time:  13s | Song Id:   666 | Train loss: 0.0682 | Val loss: 0.1068| Valence: 0.1921 | Arousal: 0.2133\n",
      "=> EPOCH 39|Time:  13s | Song Id:   395 | Train loss: 0.0682 | Val loss: 0.1069| Valence: 0.1921 | Arousal: 0.2134\n",
      "=> EPOCH 40|Time:  13s | Song Id:  1524 | Train loss: 0.0682 | Val loss: 0.1069| Valence: 0.1922 | Arousal: 0.2135\n",
      "=> EPOCH 41|Time:  13s | Song Id:   684 | Train loss: 0.0682 | Val loss: 0.1070| Valence: 0.1923 | Arousal: 0.2135\n",
      "=> EPOCH 42|Time:  13s | Song Id:  1046 | Train loss: 0.0681 | Val loss: 0.1071| Valence: 0.1924 | Arousal: 0.2136\n",
      "=> EPOCH 43|Time:  13s | Song Id:   428 | Train loss: 0.0681 | Val loss: 0.1072| Valence: 0.1925 | Arousal: 0.2137\n",
      "=> EPOCH 44|Time:  13s | Song Id:  1018 | Train loss: 0.0681 | Val loss: 0.1072| Valence: 0.1925 | Arousal: 0.2138\n",
      "=> EPOCH 45|Time:  13s | Song Id:   611 | Train loss: 0.0681 | Val loss: 0.1073| Valence: 0.1926 | Arousal: 0.2138\n",
      "=> EPOCH 46|Time:  13s | Song Id:  1020 | Train loss: 0.0681 | Val loss: 0.1074| Valence: 0.1926 | Arousal: 0.2139\n",
      "=> EPOCH 47|Time:  13s | Song Id:  1716 | Train loss: 0.0681 | Val loss: 0.1074| Valence: 0.1927 | Arousal: 0.2140\n",
      "=> EPOCH 48|Time:  13s | Song Id:  1293 | Train loss: 0.0681 | Val loss: 0.1075| Valence: 0.1928 | Arousal: 0.2140\n",
      "=> EPOCH 49|Time:  13s | Song Id:  1562 | Train loss: 0.0681 | Val loss: 0.1076| Valence: 0.1929 | Arousal: 0.2141\n",
      "=> EPOCH 50|Time:  13s | Song Id:  1808 | Train loss: 0.0681 | Val loss: 0.1076| Valence: 0.1929 | Arousal: 0.2142\n",
      "=> EPOCH 51|Time:  13s | Song Id:  1830 | Train loss: 0.0681 | Val loss: 0.1077| Valence: 0.1931 | Arousal: 0.2142\n",
      "=> EPOCH 52|Time:  13s | Song Id:  1688 | Train loss: 0.0681 | Val loss: 0.1078| Valence: 0.1931 | Arousal: 0.2143\n",
      "=> EPOCH 53|Time:  13s | Song Id:  1926 | Train loss: 0.0681 | Val loss: 0.1078| Valence: 0.1932 | Arousal: 0.2143\n",
      "=> EPOCH 54|Time:  13s | Song Id:   637 | Train loss: 0.0681 | Val loss: 0.1079| Valence: 0.1933 | Arousal: 0.2144\n",
      "=> EPOCH 55|Time:  13s | Song Id:  1854 | Train loss: 0.0681 | Val loss: 0.1079| Valence: 0.1933 | Arousal: 0.2145\n",
      "=> EPOCH 56|Time:  13s | Song Id:  1127 | Train loss: 0.0681 | Val loss: 0.1080| Valence: 0.1933 | Arousal: 0.2145\n",
      "=> EPOCH 57|Time:  13s | Song Id:  1699 | Train loss: 0.0681 | Val loss: 0.1081| Valence: 0.1934 | Arousal: 0.2146\n",
      "=> EPOCH 58|Time:  13s | Song Id:  1601 | Train loss: 0.0681 | Val loss: 0.1081| Valence: 0.1934 | Arousal: 0.2146\n",
      "=> EPOCH 59|Time:  13s | Song Id:  1500 | Train loss: 0.0681 | Val loss: 0.1082| Valence: 0.1934 | Arousal: 0.2147\n",
      "=> EPOCH 60|Time:  13s | Song Id:  1326 | Train loss: 0.0681 | Val loss: 0.1082| Valence: 0.1934 | Arousal: 0.2147\n",
      "=> EPOCH 61|Time:  13s | Song Id:   798 | Train loss: 0.0681 | Val loss: 0.1083| Valence: 0.1935 | Arousal: 0.2148\n",
      "=> EPOCH 62|Time:  13s | Song Id:  1955 | Train loss: 0.0681 | Val loss: 0.1083| Valence: 0.1935 | Arousal: 0.2148\n",
      "=> EPOCH 63|Time:  13s | Song Id:  1658 | Train loss: 0.0681 | Val loss: 0.1084| Valence: 0.1936 | Arousal: 0.2149\n",
      "=> EPOCH 64|Time:  13s | Song Id:  1222 | Train loss: 0.0681 | Val loss: 0.1084| Valence: 0.1936 | Arousal: 0.2149\n",
      "=> EPOCH 65|Time:  13s | Song Id:  1112 | Train loss: 0.0681 | Val loss: 0.1084| Valence: 0.1937 | Arousal: 0.2149\n",
      "=> EPOCH 66|Time:  13s | Song Id:  1153 | Train loss: 0.0681 | Val loss: 0.1085| Valence: 0.1938 | Arousal: 0.2150\n",
      "=> EPOCH 67|Time:  13s | Song Id:  1318 | Train loss: 0.0681 | Val loss: 0.1085| Valence: 0.1938 | Arousal: 0.2150\n",
      "=> EPOCH 68|Time:  13s | Song Id:  1247 | Train loss: 0.0681 | Val loss: 0.1086| Valence: 0.1938 | Arousal: 0.2151\n",
      "=> EPOCH 69|Time:  13s | Song Id:  1262 | Train loss: 0.0681 | Val loss: 0.1086| Valence: 0.1939 | Arousal: 0.2151\n",
      "=> EPOCH 70|Time:  13s | Song Id:  1037 | Train loss: 0.0681 | Val loss: 0.1086| Valence: 0.1939 | Arousal: 0.2151\n",
      "=> EPOCH 71|Time:  13s | Song Id:  1228 | Train loss: 0.0681 | Val loss: 0.1087| Valence: 0.1940 | Arousal: 0.2152\n"
     ]
    },
    {
     "name": "stdout",
     "output_type": "stream",
     "text": [
      "=> EPOCH 72|Time:  13s | Song Id:  1337 | Train loss: 0.0681 | Val loss: 0.1087| Valence: 0.1940 | Arousal: 0.2152\n",
      "=> EPOCH 73|Time:  13s | Song Id:  1825 | Train loss: 0.0681 | Val loss: 0.1088| Valence: 0.1940 | Arousal: 0.2152\n",
      "=> EPOCH 74|Time:  13s | Song Id:  1939 | Train loss: 0.0681 | Val loss: 0.1088| Valence: 0.1940 | Arousal: 0.2153\n",
      "=> EPOCH 75|Time:  13s | Song Id:   611 | Train loss: 0.0681 | Val loss: 0.1089| Valence: 0.1942 | Arousal: 0.2153\n",
      "=> EPOCH 76|Time:  13s | Song Id:  1642 | Train loss: 0.0681 | Val loss: 0.1089| Valence: 0.1942 | Arousal: 0.2154\n",
      "=> EPOCH 77|Time:  13s | Song Id:  1635 | Train loss: 0.0681 | Val loss: 0.1089| Valence: 0.1942 | Arousal: 0.2154\n",
      "=> EPOCH 78|Time:  13s | Song Id:  1474 | Train loss: 0.0681 | Val loss: 0.1090| Valence: 0.1943 | Arousal: 0.2154\n",
      "=> EPOCH 79|Time:  13s | Song Id:  1659 | Train loss: 0.0681 | Val loss: 0.1090| Valence: 0.1943 | Arousal: 0.2155\n",
      "=> EPOCH 80|Time:  13s | Song Id:  1786 | Train loss: 0.0681 | Val loss: 0.1090| Valence: 0.1943 | Arousal: 0.2155\n",
      "=> EPOCH 81|Time:  13s | Song Id:  1576 | Train loss: 0.0680 | Val loss: 0.1091| Valence: 0.1944 | Arousal: 0.2156\n",
      "=> EPOCH 82|Time:  13s | Song Id:   369 | Train loss: 0.0680 | Val loss: 0.1091| Valence: 0.1944 | Arousal: 0.2156\n",
      "=> EPOCH 83|Time:  13s | Song Id:  2046 | Train loss: 0.0680 | Val loss: 0.1091| Valence: 0.1944 | Arousal: 0.2156\n",
      "=> EPOCH 84|Time:  13s | Song Id:  1462 | Train loss: 0.0680 | Val loss: 0.1092| Valence: 0.1944 | Arousal: 0.2157\n",
      "=> EPOCH 85|Time:  13s | Song Id:  1009 | Train loss: 0.0680 | Val loss: 0.1092| Valence: 0.1945 | Arousal: 0.2157\n",
      "=> EPOCH 86|Time:  13s | Song Id:  2042 | Train loss: 0.0680 | Val loss: 0.1092| Valence: 0.1945 | Arousal: 0.2157\n",
      "=> EPOCH 87|Time:  13s | Song Id:  1833 | Train loss: 0.0680 | Val loss: 0.1093| Valence: 0.1945 | Arousal: 0.2158\n",
      "=> EPOCH 88|Time:  13s | Song Id:   737 | Train loss: 0.0680 | Val loss: 0.1093| Valence: 0.1946 | Arousal: 0.2158\n",
      "=> EPOCH 89|Time:  13s | Song Id:   730 | Train loss: 0.0680 | Val loss: 0.1093| Valence: 0.1946 | Arousal: 0.2158\n",
      "=> EPOCH 90|Time:  13s | Song Id:   645 | Train loss: 0.0680 | Val loss: 0.1094| Valence: 0.1946 | Arousal: 0.2159\n",
      "=> EPOCH 91|Time:  13s | Song Id:  1735 | Train loss: 0.0680 | Val loss: 0.1094| Valence: 0.1947 | Arousal: 0.2159\n",
      "=> EPOCH 92|Time:  13s | Song Id:  1872 | Train loss: 0.0680 | Val loss: 0.1094| Valence: 0.1946 | Arousal: 0.2159\n",
      "=> EPOCH 93|Time:  13s | Song Id:  1922 | Train loss: 0.0680 | Val loss: 0.1095| Valence: 0.1947 | Arousal: 0.2159\n",
      "=> EPOCH 94|Time:  13s | Song Id:  1488 | Train loss: 0.0680 | Val loss: 0.1095| Valence: 0.1947 | Arousal: 0.2160\n",
      "=> EPOCH 95|Time:  13s | Song Id:  1734 | Train loss: 0.0680 | Val loss: 0.1095| Valence: 0.1948 | Arousal: 0.2160\n",
      "=> EPOCH 96|Time:  13s | Song Id:  1184 | Train loss: 0.0680 | Val loss: 0.1096| Valence: 0.1948 | Arousal: 0.2160\n",
      "=> EPOCH 97|Time:  13s | Song Id:   729 | Train loss: 0.0680 | Val loss: 0.1096| Valence: 0.1948 | Arousal: 0.2161\n",
      "=> EPOCH 98|Time:  13s | Song Id:   577 | Train loss: 0.0680 | Val loss: 0.1096| Valence: 0.1949 | Arousal: 0.2161\n",
      "=> EPOCH 99|Time:  13s | Song Id:  1925 | Train loss: 0.0680 | Val loss: 0.1096| Valence: 0.1949 | Arousal: 0.2161\n",
      "=> EPOCH 100|Time:  13s | Song Id:  1638 | Train loss: 0.0680 | Val loss: 0.1097| Valence: 0.1948 | Arousal: 0.2161\n",
      "=> EPOCH 101|Time:  13s | Song Id:  1429 | Train loss: 0.0680 | Val loss: 0.1097| Valence: 0.1949 | Arousal: 0.2162\n",
      "=> EPOCH 102|Time:  13s | Song Id:   625 | Train loss: 0.0680 | Val loss: 0.1097| Valence: 0.1948 | Arousal: 0.2162\n",
      "=> EPOCH 103|Time:  13s | Song Id:  1342 | Train loss: 0.0680 | Val loss: 0.1097| Valence: 0.1949 | Arousal: 0.2162\n",
      "=> EPOCH 104|Time:  13s | Song Id:  1381 | Train loss: 0.0680 | Val loss: 0.1098| Valence: 0.1949 | Arousal: 0.2162\n",
      "=> EPOCH 105|Time:  13s | Song Id:  1469 | Train loss: 0.0680 | Val loss: 0.1098| Valence: 0.1950 | Arousal: 0.2163\n",
      "=> EPOCH 106|Time:  13s | Song Id:  1751 | Train loss: 0.0680 | Val loss: 0.1098| Valence: 0.1950 | Arousal: 0.2163\n",
      "=> EPOCH 107|Time:  13s | Song Id:  1221 | Train loss: 0.0680 | Val loss: 0.1098| Valence: 0.1950 | Arousal: 0.2163\n",
      "=> EPOCH 108|Time:  13s | Song Id:   518 | Train loss: 0.0680 | Val loss: 0.1099| Valence: 0.1951 | Arousal: 0.2164\n",
      "=> EPOCH 109|Time:  13s | Song Id:   952 | Train loss: 0.0680 | Val loss: 0.1099| Valence: 0.1950 | Arousal: 0.2164\n",
      "=> EPOCH 110|Time:  13s | Song Id:  1546 | Train loss: 0.0680 | Val loss: 0.1099| Valence: 0.1951 | Arousal: 0.2164\n",
      "=> EPOCH 111|Time:  14s | Song Id:  1687 | Train loss: 0.0680 | Val loss: 0.1100| Valence: 0.1952 | Arousal: 0.2164\n",
      "=> EPOCH 112|Time:  12s | Song Id:  1893 | Train loss: 0.0680 | Val loss: 0.1100| Valence: 0.1952 | Arousal: 0.2165\n",
      "=> EPOCH 113|Time:  13s | Song Id:  1722 | Train loss: 0.0680 | Val loss: 0.1100| Valence: 0.1952 | Arousal: 0.2165\n",
      "=> EPOCH 114|Time:  12s | Song Id:   348 | Train loss: 0.0680 | Val loss: 0.1100| Valence: 0.1952 | Arousal: 0.2165\n",
      "=> EPOCH 115|Time:  12s | Song Id:  1912 | Train loss: 0.0680 | Val loss: 0.1100| Valence: 0.1952 | Arousal: 0.2165\n",
      "=> EPOCH 116|Time:  13s | Song Id:   891 | Train loss: 0.0680 | Val loss: 0.1101| Valence: 0.1952 | Arousal: 0.2166\n",
      "=> EPOCH 117|Time:  13s | Song Id:   544 | Train loss: 0.0680 | Val loss: 0.1101| Valence: 0.1952 | Arousal: 0.2166\n",
      "=> EPOCH 118|Time:  13s | Song Id:  1519 | Train loss: 0.0680 | Val loss: 0.1101| Valence: 0.1952 | Arousal: 0.2166\n",
      "=> EPOCH 119|Time:  13s | Song Id:  1554 | Train loss: 0.0680 | Val loss: 0.1101| Valence: 0.1952 | Arousal: 0.2166\n",
      "=> EPOCH 120|Time:  13s | Song Id:  2016 | Train loss: 0.0680 | Val loss: 0.1102| Valence: 0.1952 | Arousal: 0.2167\n",
      "=> EPOCH 121|Time:  13s | Song Id:  1044 | Train loss: 0.0680 | Val loss: 0.1102| Valence: 0.1953 | Arousal: 0.2167\n",
      "=> EPOCH 122|Time:  13s | Song Id:  1857 | Train loss: 0.0680 | Val loss: 0.1102| Valence: 0.1953 | Arousal: 0.2167\n",
      "=> EPOCH 123|Time:  13s | Song Id:  2013 | Train loss: 0.0680 | Val loss: 0.1102| Valence: 0.1954 | Arousal: 0.2167\n",
      "=> EPOCH 124|Time:  13s | Song Id:  1117 | Train loss: 0.0680 | Val loss: 0.1103| Valence: 0.1954 | Arousal: 0.2168\n",
      "=> EPOCH 125|Time:  13s | Song Id:   742 | Train loss: 0.0680 | Val loss: 0.1103| Valence: 0.1954 | Arousal: 0.2168\n",
      "=> EPOCH 126|Time:  13s | Song Id:  1422 | Train loss: 0.0680 | Val loss: 0.1103| Valence: 0.1954 | Arousal: 0.2168\n",
      "=> EPOCH 127|Time:  13s | Song Id:  1825 | Train loss: 0.0680 | Val loss: 0.1103| Valence: 0.1954 | Arousal: 0.2168\n",
      "=> EPOCH 128|Time:  13s | Song Id:   954 | Train loss: 0.0680 | Val loss: 0.1104| Valence: 0.1955 | Arousal: 0.2169\n",
      "=> EPOCH 129|Time:  13s | Song Id:  1237 | Train loss: 0.0680 | Val loss: 0.1104| Valence: 0.1954 | Arousal: 0.2169\n",
      "=> EPOCH 130|Time:  13s | Song Id:  1782 | Train loss: 0.0680 | Val loss: 0.1104| Valence: 0.1954 | Arousal: 0.2169\n",
      "=> EPOCH 131|Time:  13s | Song Id:  1037 | Train loss: 0.0680 | Val loss: 0.1104| Valence: 0.1955 | Arousal: 0.2169\n",
      "=> EPOCH 132|Time:  13s | Song Id:  1787 | Train loss: 0.0680 | Val loss: 0.1104| Valence: 0.1955 | Arousal: 0.2169\n",
      "=> EPOCH 133|Time:  13s | Song Id:  1685 | Train loss: 0.0680 | Val loss: 0.1105| Valence: 0.1955 | Arousal: 0.2170\n",
      "=> EPOCH 134|Time:  13s | Song Id:  2055 | Train loss: 0.0680 | Val loss: 0.1105| Valence: 0.1955 | Arousal: 0.2170\n",
      "=> EPOCH 135|Time:  13s | Song Id:  1534 | Train loss: 0.0680 | Val loss: 0.1105| Valence: 0.1955 | Arousal: 0.2170\n",
      "=> EPOCH 136|Time:  13s | Song Id:  1837 | Train loss: 0.0680 | Val loss: 0.1105| Valence: 0.1956 | Arousal: 0.2170\n",
      "=> EPOCH 137|Time:  13s | Song Id:  1243 | Train loss: 0.0680 | Val loss: 0.1106| Valence: 0.1956 | Arousal: 0.2171\n",
      "=> EPOCH 138|Time:  14s | Song Id:  1945 | Train loss: 0.0680 | Val loss: 0.1106| Valence: 0.1957 | Arousal: 0.2171\n",
      "=> EPOCH 139|Time:  14s | Song Id:  1661 | Train loss: 0.0680 | Val loss: 0.1106| Valence: 0.1957 | Arousal: 0.2171\n",
      "=> EPOCH 140|Time:  12s | Song Id:   902 | Train loss: 0.0680 | Val loss: 0.1106| Valence: 0.1957 | Arousal: 0.2171\n",
      "=> EPOCH 141|Time:  12s | Song Id:  1759 | Train loss: 0.0680 | Val loss: 0.1106| Valence: 0.1957 | Arousal: 0.2172\n",
      "=> EPOCH 142|Time:  13s | Song Id:  1296 | Train loss: 0.0680 | Val loss: 0.1107| Valence: 0.1957 | Arousal: 0.2172\n"
     ]
    },
    {
     "name": "stdout",
     "output_type": "stream",
     "text": [
      "=> EPOCH 143|Time:  13s | Song Id:   544 | Train loss: 0.0680 | Val loss: 0.1107| Valence: 0.1958 | Arousal: 0.2172\n",
      "=> EPOCH 144|Time:  13s | Song Id:  1407 | Train loss: 0.0680 | Val loss: 0.1107| Valence: 0.1957 | Arousal: 0.2172\n",
      "=> EPOCH 145|Time:  13s | Song Id:   769 | Train loss: 0.0680 | Val loss: 0.1107| Valence: 0.1958 | Arousal: 0.2173\n",
      "=> EPOCH 146|Time:  13s | Song Id:  1591 | Train loss: 0.0680 | Val loss: 0.1108| Valence: 0.1958 | Arousal: 0.2173\n",
      "=> EPOCH 147|Time:  13s | Song Id:  1489 | Train loss: 0.0680 | Val loss: 0.1108| Valence: 0.1958 | Arousal: 0.2173\n",
      "=> EPOCH 148|Time:  13s | Song Id:  1311 | Train loss: 0.0680 | Val loss: 0.1108| Valence: 0.1958 | Arousal: 0.2173\n",
      "=> EPOCH 149|Time:  13s | Song Id:   649 | Train loss: 0.0680 | Val loss: 0.1108| Valence: 0.1958 | Arousal: 0.2173\n",
      "=> EPOCH 150|Time:  13s | Song Id:  1842 | Train loss: 0.0680 | Val loss: 0.1108| Valence: 0.1958 | Arousal: 0.2174\n",
      "=> EPOCH 151|Time:  13s | Song Id:  1342 | Train loss: 0.0680 | Val loss: 0.1108| Valence: 0.1958 | Arousal: 0.2174\n",
      "=> EPOCH 152|Time:  13s | Song Id:   902 | Train loss: 0.0680 | Val loss: 0.1109| Valence: 0.1959 | Arousal: 0.2174\n",
      "=> EPOCH 153|Time:  13s | Song Id:  1019 | Train loss: 0.0680 | Val loss: 0.1109| Valence: 0.1959 | Arousal: 0.2174\n",
      "=> EPOCH 154|Time:  13s | Song Id:   693 | Train loss: 0.0680 | Val loss: 0.1109| Valence: 0.1959 | Arousal: 0.2174\n",
      "=> EPOCH 155|Time:  13s | Song Id:   692 | Train loss: 0.0680 | Val loss: 0.1109| Valence: 0.1959 | Arousal: 0.2175\n",
      "=> EPOCH 156|Time:  13s | Song Id:  1122 | Train loss: 0.0680 | Val loss: 0.1109| Valence: 0.1959 | Arousal: 0.2175\n",
      "=> EPOCH 157|Time:  13s | Song Id:  2053 | Train loss: 0.0680 | Val loss: 0.1110| Valence: 0.1959 | Arousal: 0.2175\n",
      "=> EPOCH 158|Time:  13s | Song Id:  1836 | Train loss: 0.0680 | Val loss: 0.1110| Valence: 0.1959 | Arousal: 0.2175\n",
      "=> EPOCH 159|Time:  13s | Song Id:  1378 | Train loss: 0.0680 | Val loss: 0.1110| Valence: 0.1960 | Arousal: 0.2175\n",
      "=> EPOCH 160|Time:  13s | Song Id:   689 | Train loss: 0.0679 | Val loss: 0.1110| Valence: 0.1959 | Arousal: 0.2176\n",
      "=> EPOCH 161|Time:  13s | Song Id:  1110 | Train loss: 0.0679 | Val loss: 0.1110| Valence: 0.1960 | Arousal: 0.2176\n",
      "=> EPOCH 162|Time:  13s | Song Id:  1651 | Train loss: 0.0679 | Val loss: 0.1111| Valence: 0.1960 | Arousal: 0.2176\n",
      "=> EPOCH 163|Time:  13s | Song Id:  1202 | Train loss: 0.0679 | Val loss: 0.1111| Valence: 0.1960 | Arousal: 0.2176\n",
      "=> EPOCH 164|Time:  13s | Song Id:  1335 | Train loss: 0.0679 | Val loss: 0.1111| Valence: 0.1960 | Arousal: 0.2176\n",
      "=> EPOCH 165|Time:  13s | Song Id:  1371 | Train loss: 0.0679 | Val loss: 0.1111| Valence: 0.1960 | Arousal: 0.2176\n",
      "=> EPOCH 166|Time:  13s | Song Id:  1963 | Train loss: 0.0679 | Val loss: 0.1111| Valence: 0.1960 | Arousal: 0.2177\n",
      "=> EPOCH 167|Time:  13s | Song Id:  1775 | Train loss: 0.0679 | Val loss: 0.1112| Valence: 0.1960 | Arousal: 0.2177\n",
      "=> EPOCH 168|Time:  13s | Song Id:   582 | Train loss: 0.0679 | Val loss: 0.1112| Valence: 0.1960 | Arousal: 0.2177\n",
      "=> EPOCH 169|Time:  13s | Song Id:   898 | Train loss: 0.0679 | Val loss: 0.1112| Valence: 0.1961 | Arousal: 0.2177\n",
      "=> EPOCH 170|Time:  13s | Song Id:   374 | Train loss: 0.0679 | Val loss: 0.1112| Valence: 0.1961 | Arousal: 0.2177\n",
      "=> EPOCH 171|Time:  13s | Song Id:  1198 | Train loss: 0.0679 | Val loss: 0.1112| Valence: 0.1961 | Arousal: 0.2178\n",
      "=> EPOCH 172|Time:  13s | Song Id:  1326 | Train loss: 0.0679 | Val loss: 0.1112| Valence: 0.1961 | Arousal: 0.2178\n",
      "=> EPOCH 173|Time:  13s | Song Id:  2010 | Train loss: 0.0679 | Val loss: 0.1113| Valence: 0.1961 | Arousal: 0.2178\n",
      "=> EPOCH 174|Time:  13s | Song Id:  1405 | Train loss: 0.0679 | Val loss: 0.1113| Valence: 0.1961 | Arousal: 0.2178\n",
      "=> EPOCH 175|Time:  13s | Song Id:   964 | Train loss: 0.0679 | Val loss: 0.1113| Valence: 0.1961 | Arousal: 0.2178\n",
      "=> EPOCH 176|Time:  13s | Song Id:  1287 | Train loss: 0.0679 | Val loss: 0.1113| Valence: 0.1962 | Arousal: 0.2179\n",
      "=> EPOCH 177|Time:  13s | Song Id:  1865 | Train loss: 0.0679 | Val loss: 0.1113| Valence: 0.1962 | Arousal: 0.2179\n",
      "=> EPOCH 178|Time:  13s | Song Id:  1419 | Train loss: 0.0679 | Val loss: 0.1114| Valence: 0.1963 | Arousal: 0.2179\n",
      "=> EPOCH 179|Time:  13s | Song Id:   736 | Train loss: 0.0679 | Val loss: 0.1114| Valence: 0.1963 | Arousal: 0.2179\n",
      "=> EPOCH 180|Time:  13s | Song Id:  1586 | Train loss: 0.0679 | Val loss: 0.1114| Valence: 0.1963 | Arousal: 0.2179\n",
      "=> EPOCH 181|Time:  13s | Song Id:   450 | Train loss: 0.0679 | Val loss: 0.1114| Valence: 0.1963 | Arousal: 0.2179\n",
      "=> EPOCH 182|Time:  13s | Song Id:  1610 | Train loss: 0.0679 | Val loss: 0.1114| Valence: 0.1963 | Arousal: 0.2180\n",
      "=> EPOCH 183|Time:  13s | Song Id:  1166 | Train loss: 0.0679 | Val loss: 0.1114| Valence: 0.1962 | Arousal: 0.2180\n",
      "=> EPOCH 184|Time:  13s | Song Id:  1200 | Train loss: 0.0679 | Val loss: 0.1114| Valence: 0.1963 | Arousal: 0.2180\n",
      "=> EPOCH 185|Time:  13s | Song Id:  1740 | Train loss: 0.0679 | Val loss: 0.1115| Valence: 0.1963 | Arousal: 0.2180\n",
      "=> EPOCH 186|Time:  13s | Song Id:  1736 | Train loss: 0.0679 | Val loss: 0.1115| Valence: 0.1963 | Arousal: 0.2180\n",
      "=> EPOCH 187|Time:  13s | Song Id:  1189 | Train loss: 0.0679 | Val loss: 0.1115| Valence: 0.1963 | Arousal: 0.2180\n",
      "=> EPOCH 188|Time:  13s | Song Id:  1185 | Train loss: 0.0679 | Val loss: 0.1115| Valence: 0.1963 | Arousal: 0.2181\n",
      "=> EPOCH 189|Time:  13s | Song Id:  1580 | Train loss: 0.0679 | Val loss: 0.1115| Valence: 0.1963 | Arousal: 0.2181\n",
      "=> EPOCH 190|Time:  13s | Song Id:  1779 | Train loss: 0.0679 | Val loss: 0.1115| Valence: 0.1963 | Arousal: 0.2181\n",
      "=> EPOCH 191|Time:  12s | Song Id:  1766 | Train loss: 0.0679 | Val loss: 0.1116| Valence: 0.1963 | Arousal: 0.2181\n",
      "=> EPOCH 192|Time:  13s | Song Id:   321 | Train loss: 0.0679 | Val loss: 0.1116| Valence: 0.1963 | Arousal: 0.2181\n",
      "=> EPOCH 193|Time:  13s | Song Id:  1889 | Train loss: 0.0679 | Val loss: 0.1116| Valence: 0.1964 | Arousal: 0.2181\n",
      "=> EPOCH 194|Time:  13s | Song Id:  1829 | Train loss: 0.0679 | Val loss: 0.1116| Valence: 0.1964 | Arousal: 0.2182\n",
      "=> EPOCH 195|Time:  13s | Song Id:  1644 | Train loss: 0.0679 | Val loss: 0.1116| Valence: 0.1964 | Arousal: 0.2182\n",
      "=> EPOCH 196|Time:  13s | Song Id:  2028 | Train loss: 0.0679 | Val loss: 0.1117| Valence: 0.1964 | Arousal: 0.2182\n",
      "=> EPOCH 197|Time:  13s | Song Id:   475 | Train loss: 0.0679 | Val loss: 0.1117| Valence: 0.1965 | Arousal: 0.2182\n",
      "=> EPOCH 198|Time:  13s | Song Id:  1810 | Train loss: 0.0679 | Val loss: 0.1117| Valence: 0.1965 | Arousal: 0.2182\n",
      "=> EPOCH 199|Time:  13s | Song Id:  1230 | Train loss: 0.0679 | Val loss: 0.1117| Valence: 0.1965 | Arousal: 0.2183\n",
      "=> EPOCH 200|Time:  13s | Song Id:   841 | Train loss: 0.0679 | Val loss: 0.1117| Valence: 0.1966 | Arousal: 0.2183\n",
      "=> EPOCH 201|Time:  13s | Song Id:  1825 | Train loss: 0.0679 | Val loss: 0.1117| Valence: 0.1966 | Arousal: 0.2183\n",
      "=> EPOCH 202|Time:  13s | Song Id:  1728 | Train loss: 0.0679 | Val loss: 0.1118| Valence: 0.1965 | Arousal: 0.2183\n",
      "=> EPOCH 203|Time:  13s | Song Id:   498 | Train loss: 0.0679 | Val loss: 0.1118| Valence: 0.1966 | Arousal: 0.2183\n",
      "=> EPOCH 204|Time:  13s | Song Id:  1579 | Train loss: 0.0679 | Val loss: 0.1118| Valence: 0.1966 | Arousal: 0.2183\n",
      "=> EPOCH 205|Time:  13s | Song Id:   352 | Train loss: 0.0679 | Val loss: 0.1118| Valence: 0.1965 | Arousal: 0.2184\n",
      "=> EPOCH 206|Time:  13s | Song Id:   340 | Train loss: 0.0679 | Val loss: 0.1118| Valence: 0.1966 | Arousal: 0.2184\n",
      "=> EPOCH 207|Time:  13s | Song Id:  1394 | Train loss: 0.0679 | Val loss: 0.1118| Valence: 0.1966 | Arousal: 0.2184\n",
      "=> EPOCH 208|Time:  13s | Song Id:   395 | Train loss: 0.0679 | Val loss: 0.1119| Valence: 0.1966 | Arousal: 0.2184\n",
      "=> EPOCH 209|Time:  13s | Song Id:  2054 | Train loss: 0.0679 | Val loss: 0.1119| Valence: 0.1966 | Arousal: 0.2184\n",
      "=> EPOCH 210|Time:  13s | Song Id:  1896 | Train loss: 0.0679 | Val loss: 0.1119| Valence: 0.1966 | Arousal: 0.2184\n",
      "=> EPOCH 211|Time:  13s | Song Id:  1018 | Train loss: 0.0679 | Val loss: 0.1119| Valence: 0.1966 | Arousal: 0.2185\n",
      "=> EPOCH 212|Time:  13s | Song Id:  1703 | Train loss: 0.0679 | Val loss: 0.1119| Valence: 0.1966 | Arousal: 0.2185\n",
      "=> EPOCH 213|Time:  13s | Song Id:  1981 | Train loss: 0.0679 | Val loss: 0.1119| Valence: 0.1967 | Arousal: 0.2185\n"
     ]
    },
    {
     "name": "stdout",
     "output_type": "stream",
     "text": [
      "=> EPOCH 214|Time:  13s | Song Id:   644 | Train loss: 0.0679 | Val loss: 0.1119| Valence: 0.1967 | Arousal: 0.2185\n",
      "=> EPOCH 215|Time:  13s | Song Id:  1531 | Train loss: 0.0679 | Val loss: 0.1120| Valence: 0.1967 | Arousal: 0.2185\n",
      "=> EPOCH 216|Time:  13s | Song Id:  1444 | Train loss: 0.0679 | Val loss: 0.1120| Valence: 0.1967 | Arousal: 0.2185\n",
      "=> EPOCH 217|Time:  13s | Song Id:  1384 | Train loss: 0.0679 | Val loss: 0.1120| Valence: 0.1967 | Arousal: 0.2185\n",
      "=> EPOCH 218|Time:  13s | Song Id:  1800 | Train loss: 0.0679 | Val loss: 0.1120| Valence: 0.1967 | Arousal: 0.2186\n",
      "=> EPOCH 219|Time:  13s | Song Id:   501 | Train loss: 0.0679 | Val loss: 0.1120| Valence: 0.1967 | Arousal: 0.2186\n",
      "=> EPOCH 220|Time:  13s | Song Id:   830 | Train loss: 0.0679 | Val loss: 0.1121| Valence: 0.1968 | Arousal: 0.2186\n",
      "=> EPOCH 221|Time:  13s | Song Id:  1868 | Train loss: 0.0679 | Val loss: 0.1121| Valence: 0.1968 | Arousal: 0.2186\n",
      "=> EPOCH 222|Time:  13s | Song Id:  1221 | Train loss: 0.0679 | Val loss: 0.1121| Valence: 0.1968 | Arousal: 0.2186\n",
      "=> EPOCH 223|Time:  13s | Song Id:  1375 | Train loss: 0.0679 | Val loss: 0.1121| Valence: 0.1968 | Arousal: 0.2187\n",
      "=> EPOCH 224|Time:  13s | Song Id:  1022 | Train loss: 0.0679 | Val loss: 0.1121| Valence: 0.1968 | Arousal: 0.2187\n",
      "=> EPOCH 225|Time:  13s | Song Id:   807 | Train loss: 0.0679 | Val loss: 0.1121| Valence: 0.1968 | Arousal: 0.2187\n",
      "=> EPOCH 226|Time:  13s | Song Id:   380 | Train loss: 0.0679 | Val loss: 0.1121| Valence: 0.1967 | Arousal: 0.2187\n",
      "=> EPOCH 227|Time:  13s | Song Id:   936 | Train loss: 0.0679 | Val loss: 0.1121| Valence: 0.1967 | Arousal: 0.2187\n",
      "=> EPOCH 228|Time:  12s | Song Id:  2036 | Train loss: 0.0679 | Val loss: 0.1122| Valence: 0.1968 | Arousal: 0.2187\n",
      "=> EPOCH 229|Time:  12s | Song Id:  1812 | Train loss: 0.0679 | Val loss: 0.1122| Valence: 0.1968 | Arousal: 0.2187\n",
      "=> EPOCH 230|Time:  12s | Song Id:  1207 | Train loss: 0.0679 | Val loss: 0.1122| Valence: 0.1968 | Arousal: 0.2188\n",
      "=> EPOCH 231|Time:  12s | Song Id:   416 | Train loss: 0.0679 | Val loss: 0.1122| Valence: 0.1968 | Arousal: 0.2188\n",
      "=> EPOCH 232|Time:  12s | Song Id:  1977 | Train loss: 0.0679 | Val loss: 0.1122| Valence: 0.1968 | Arousal: 0.2188\n",
      "=> EPOCH 233|Time:  13s | Song Id:  1450 | Train loss: 0.0679 | Val loss: 0.1122| Valence: 0.1968 | Arousal: 0.2188\n",
      "=> EPOCH 234|Time:  12s | Song Id:   629 | Train loss: 0.0679 | Val loss: 0.1123| Valence: 0.1968 | Arousal: 0.2188\n",
      "=> EPOCH 235|Time:  12s | Song Id:   921 | Train loss: 0.0679 | Val loss: 0.1123| Valence: 0.1968 | Arousal: 0.2188\n",
      "=> EPOCH 236|Time:  13s | Song Id:  1240 | Train loss: 0.0679 | Val loss: 0.1123| Valence: 0.1969 | Arousal: 0.2188\n",
      "=> EPOCH 237|Time:  13s | Song Id:  1515 | Train loss: 0.0679 | Val loss: 0.1123| Valence: 0.1969 | Arousal: 0.2189\n",
      "=> EPOCH 238|Time:  13s | Song Id:  2017 | Train loss: 0.0679 | Val loss: 0.1123| Valence: 0.1969 | Arousal: 0.2189\n",
      "=> EPOCH 239|Time:  13s | Song Id:  1363 | Train loss: 0.0679 | Val loss: 0.1123| Valence: 0.1969 | Arousal: 0.2189\n",
      "=> EPOCH 240|Time:  13s | Song Id:   801 | Train loss: 0.0679 | Val loss: 0.1123| Valence: 0.1969 | Arousal: 0.2189\n",
      "=> EPOCH 241|Time:  13s | Song Id:   664 | Train loss: 0.0679 | Val loss: 0.1124| Valence: 0.1969 | Arousal: 0.2189\n",
      "=> EPOCH 242|Time:  13s | Song Id:   651 | Train loss: 0.0679 | Val loss: 0.1124| Valence: 0.1970 | Arousal: 0.2189\n",
      "=> EPOCH 243|Time:  13s | Song Id:  1503 | Train loss: 0.0679 | Val loss: 0.1124| Valence: 0.1970 | Arousal: 0.2189\n",
      "=> EPOCH 244|Time:  13s | Song Id:   616 | Train loss: 0.0679 | Val loss: 0.1124| Valence: 0.1970 | Arousal: 0.2190\n",
      "=> EPOCH 245|Time:  13s | Song Id:  1203 | Train loss: 0.0679 | Val loss: 0.1124| Valence: 0.1970 | Arousal: 0.2190\n",
      "=> EPOCH 246|Time:  13s | Song Id:  1263 | Train loss: 0.0679 | Val loss: 0.1124| Valence: 0.1970 | Arousal: 0.2190\n",
      "=> EPOCH 247|Time:  13s | Song Id:   989 | Train loss: 0.0679 | Val loss: 0.1124| Valence: 0.1970 | Arousal: 0.2190\n",
      "=> EPOCH 248|Time:  13s | Song Id:  1099 | Train loss: 0.0679 | Val loss: 0.1125| Valence: 0.1971 | Arousal: 0.2190\n",
      "=> EPOCH 249|Time:  13s | Song Id:   625 | Train loss: 0.0679 | Val loss: 0.1125| Valence: 0.1970 | Arousal: 0.2190\n",
      "=> EPOCH 250|Time:  13s | Song Id:  1006 | Train loss: 0.0679 | Val loss: 0.1125| Valence: 0.1970 | Arousal: 0.2190\n",
      "=> EPOCH 251|Time:  13s | Song Id:  1513 | Train loss: 0.0679 | Val loss: 0.1125| Valence: 0.1971 | Arousal: 0.2191\n",
      "=> EPOCH 252|Time:  13s | Song Id:   660 | Train loss: 0.0679 | Val loss: 0.1125| Valence: 0.1971 | Arousal: 0.2191\n",
      "=> EPOCH 253|Time:  13s | Song Id:   977 | Train loss: 0.0679 | Val loss: 0.1125| Valence: 0.1971 | Arousal: 0.2191\n",
      "=> EPOCH 254|Time:  13s | Song Id:  2041 | Train loss: 0.0679 | Val loss: 0.1125| Valence: 0.1971 | Arousal: 0.2191\n",
      "=> EPOCH 255|Time:  13s | Song Id:   622 | Train loss: 0.0679 | Val loss: 0.1126| Valence: 0.1971 | Arousal: 0.2191\n",
      "=> EPOCH 256|Time:  13s | Song Id:  1967 | Train loss: 0.0679 | Val loss: 0.1126| Valence: 0.1971 | Arousal: 0.2191\n",
      "=> EPOCH 257|Time:  13s | Song Id:  1549 | Train loss: 0.0679 | Val loss: 0.1126| Valence: 0.1972 | Arousal: 0.2191\n",
      "=> EPOCH 258|Time:  13s | Song Id:   707 | Train loss: 0.0679 | Val loss: 0.1126| Valence: 0.1971 | Arousal: 0.2192\n",
      "=> EPOCH 259|Time:  13s | Song Id:  1367 | Train loss: 0.0679 | Val loss: 0.1126| Valence: 0.1971 | Arousal: 0.2192\n",
      "=> EPOCH 260|Time:  13s | Song Id:  1844 | Train loss: 0.0679 | Val loss: 0.1126| Valence: 0.1972 | Arousal: 0.2192\n",
      "=> EPOCH 261|Time:  13s | Song Id:  1639 | Train loss: 0.0679 | Val loss: 0.1126| Valence: 0.1971 | Arousal: 0.2192\n",
      "=> EPOCH 262|Time:  13s | Song Id:  2051 | Train loss: 0.0679 | Val loss: 0.1126| Valence: 0.1972 | Arousal: 0.2192\n",
      "=> EPOCH 263|Time:  13s | Song Id:   711 | Train loss: 0.0679 | Val loss: 0.1127| Valence: 0.1972 | Arousal: 0.2192\n",
      "=> EPOCH 264|Time:  13s | Song Id:  1735 | Train loss: 0.0679 | Val loss: 0.1127| Valence: 0.1971 | Arousal: 0.2192\n",
      "=> EPOCH 265|Time:  13s | Song Id:  1261 | Train loss: 0.0679 | Val loss: 0.1127| Valence: 0.1971 | Arousal: 0.2192\n",
      "=> EPOCH 266|Time:  13s | Song Id:  1662 | Train loss: 0.0679 | Val loss: 0.1127| Valence: 0.1972 | Arousal: 0.2193\n",
      "=> EPOCH 267|Time:  13s | Song Id:  1232 | Train loss: 0.0679 | Val loss: 0.1127| Valence: 0.1972 | Arousal: 0.2193\n",
      "=> EPOCH 268|Time:  13s | Song Id:  1920 | Train loss: 0.0679 | Val loss: 0.1127| Valence: 0.1972 | Arousal: 0.2193\n",
      "=> EPOCH 269|Time:  13s | Song Id:  1468 | Train loss: 0.0679 | Val loss: 0.1127| Valence: 0.1972 | Arousal: 0.2193\n",
      "=> EPOCH 270|Time:  13s | Song Id:  1956 | Train loss: 0.0679 | Val loss: 0.1128| Valence: 0.1972 | Arousal: 0.2193\n",
      "=> EPOCH 271|Time:  13s | Song Id:  1594 | Train loss: 0.0679 | Val loss: 0.1128| Valence: 0.1972 | Arousal: 0.2193\n",
      "=> EPOCH 272|Time:  13s | Song Id:   537 | Train loss: 0.0679 | Val loss: 0.1128| Valence: 0.1973 | Arousal: 0.2193\n",
      "=> EPOCH 273|Time:  13s | Song Id:   497 | Train loss: 0.0679 | Val loss: 0.1128| Valence: 0.1973 | Arousal: 0.2194\n",
      "=> EPOCH 274|Time:  13s | Song Id:  2032 | Train loss: 0.0679 | Val loss: 0.1128| Valence: 0.1973 | Arousal: 0.2194\n",
      "=> EPOCH 275|Time:  13s | Song Id:  1403 | Train loss: 0.0679 | Val loss: 0.1128| Valence: 0.1974 | Arousal: 0.2194\n",
      "=> EPOCH 276|Time:  13s | Song Id:   857 | Train loss: 0.0679 | Val loss: 0.1128| Valence: 0.1974 | Arousal: 0.2194\n",
      "=> EPOCH 277|Time:  13s | Song Id:   656 | Train loss: 0.0679 | Val loss: 0.1129| Valence: 0.1973 | Arousal: 0.2194\n",
      "=> EPOCH 278|Time:  13s | Song Id:  1376 | Train loss: 0.0679 | Val loss: 0.1129| Valence: 0.1974 | Arousal: 0.2194\n",
      "=> EPOCH 279|Time:  13s | Song Id:   892 | Train loss: 0.0679 | Val loss: 0.1129| Valence: 0.1973 | Arousal: 0.2194\n",
      "=> EPOCH 280|Time:  13s | Song Id:   988 | Train loss: 0.0679 | Val loss: 0.1129| Valence: 0.1974 | Arousal: 0.2195\n",
      "=> EPOCH 281|Time:  13s | Song Id:   390 | Train loss: 0.0679 | Val loss: 0.1129| Valence: 0.1974 | Arousal: 0.2195\n",
      "=> EPOCH 282|Time:  13s | Song Id:  1561 | Train loss: 0.0679 | Val loss: 0.1129| Valence: 0.1974 | Arousal: 0.2195\n",
      "=> EPOCH 283|Time:  13s | Song Id:  1089 | Train loss: 0.0679 | Val loss: 0.1129| Valence: 0.1974 | Arousal: 0.2195\n",
      "=> EPOCH 284|Time:  13s | Song Id:  1062 | Train loss: 0.0679 | Val loss: 0.1129| Valence: 0.1974 | Arousal: 0.2195\n"
     ]
    },
    {
     "name": "stdout",
     "output_type": "stream",
     "text": [
      "=> EPOCH 285|Time:  13s | Song Id:  1067 | Train loss: 0.0679 | Val loss: 0.1130| Valence: 0.1974 | Arousal: 0.2195\n",
      "=> EPOCH 286|Time:  13s | Song Id:  1514 | Train loss: 0.0679 | Val loss: 0.1130| Valence: 0.1974 | Arousal: 0.2195\n",
      "=> EPOCH 287|Time:  13s | Song Id:  1283 | Train loss: 0.0679 | Val loss: 0.1130| Valence: 0.1974 | Arousal: 0.2195\n",
      "=> EPOCH 288|Time:  13s | Song Id:  1237 | Train loss: 0.0679 | Val loss: 0.1130| Valence: 0.1974 | Arousal: 0.2196\n",
      "=> EPOCH 289|Time:  13s | Song Id:  1111 | Train loss: 0.0679 | Val loss: 0.1130| Valence: 0.1974 | Arousal: 0.2196\n",
      "=> EPOCH 290|Time:  13s | Song Id:  1929 | Train loss: 0.0679 | Val loss: 0.1130| Valence: 0.1974 | Arousal: 0.2196\n",
      "=> EPOCH 291|Time:  13s | Song Id:   460 | Train loss: 0.0679 | Val loss: 0.1130| Valence: 0.1975 | Arousal: 0.2196\n",
      "=> EPOCH 292|Time:  13s | Song Id:   702 | Train loss: 0.0679 | Val loss: 0.1130| Valence: 0.1975 | Arousal: 0.2196\n",
      "=> EPOCH 293|Time:  13s | Song Id:  1850 | Train loss: 0.0679 | Val loss: 0.1131| Valence: 0.1975 | Arousal: 0.2196\n",
      "=> EPOCH 294|Time:  13s | Song Id:  1476 | Train loss: 0.0679 | Val loss: 0.1131| Valence: 0.1975 | Arousal: 0.2196\n",
      "=> EPOCH 295|Time:  13s | Song Id:  1603 | Train loss: 0.0679 | Val loss: 0.1131| Valence: 0.1975 | Arousal: 0.2197\n",
      "=> EPOCH 296|Time:  13s | Song Id:  1637 | Train loss: 0.0679 | Val loss: 0.1131| Valence: 0.1975 | Arousal: 0.2197\n",
      "=> EPOCH 297|Time:  13s | Song Id:   616 | Train loss: 0.0679 | Val loss: 0.1131| Valence: 0.1976 | Arousal: 0.2197\n",
      "=> EPOCH 298|Time:  13s | Song Id:   339 | Train loss: 0.0679 | Val loss: 0.1131| Valence: 0.1976 | Arousal: 0.2197\n",
      "=> EPOCH 299|Time:  13s | Song Id:  1392 | Train loss: 0.0679 | Val loss: 0.1131| Valence: 0.1976 | Arousal: 0.2197\n"
     ]
    }
   ],
   "source": [
    "best_valid_loss = 10\n",
    "for epoch in range(0, 300):\n",
    "    start_time = time.time()\n",
    "    #train_test(epoch, model, listSongId=songId, optimizer=optimizer, criterion=criterion)\n",
    "    valid_loss = train(epoch, model, songId=songId, optimizer=optimizer, criterion=criterion, start_time=start_time, config=args)\n",
    "    if valid_loss < best_valid_loss:\n",
    "        best_valid_loss = valid_loss\n",
    "        torch.save(model.state_dict(), args.model_zoo + args.best_model)"
   ]
  },
  {
   "cell_type": "code",
   "execution_count": 158,
   "metadata": {
    "collapsed": true
   },
   "outputs": [],
   "source": [
    "train_losses = [0.1326, 0.1052, 0.1029, 0.1011, 0.0995, 0.0981, 0.0968, \n",
    " 0.0956, 0.0945, 0.0934, 0.0924, 0.0914, 0.0905, 0.0896, \n",
    " 0.0888, 0.0881, 0.0873, 0.0867, 0.0860, 0.0854, 0.0849,\n",
    " 0.0844, 0.0839, 0.0835, 0.0831, 0.0828, 0.0825, 0.0822,\n",
    " 0.0819, 0.0817]\n",
    "val_losses = [0.1504, 0.1467, 0.1442, 0.1424, 0.1410, 0.1399, 0.1390,\n",
    "              0.1382, 0.1377, 0.1372, 0.1368, 0.1365, 0.1363, 0.1362,\n",
    "              0.1361, 0.1361, 0.1362, 0.1363, 0.1364, 0.1366, 0.1368,\n",
    "              0.1371, 0.1373, 0.1376, 0.1379, 0.1382, 0.1385, 0.1388, \n",
    "              0.1391, 0.1394]"
   ]
  },
  {
   "cell_type": "code",
   "execution_count": 178,
   "metadata": {},
   "outputs": [
    {
     "data": {
      "text/plain": [
       "0.10102746063111462"
      ]
     },
     "execution_count": 178,
     "metadata": {},
     "output_type": "execute_result"
    }
   ],
   "source": [
    "best_valid_loss"
   ]
  },
  {
   "cell_type": "code",
   "execution_count": 159,
   "metadata": {
    "collapsed": true
   },
   "outputs": [],
   "source": [
    "import matplotlib.pyplot as plt\n",
    "%matplotlib inline"
   ]
  },
  {
   "cell_type": "code",
   "execution_count": 160,
   "metadata": {
    "collapsed": true
   },
   "outputs": [],
   "source": [
    "from pylab import rcParams\n",
    "rcParams['figure.figsize'] = 30, 20\n",
    "rcParams['xtick.labelsize'] = 22\n",
    "rcParams['ytick.labelsize'] = 22"
   ]
  },
  {
   "cell_type": "code",
   "execution_count": 161,
   "metadata": {},
   "outputs": [
    {
     "data": {
      "image/png": "[encoded data removed]",
      "text/plain": [
       "<matplotlib.figure.Figure at 0x7fc79d2aeef0>"
      ]
     },
     "metadata": {},
     "output_type": "display_data"
    }
   ],
   "source": [
    "plt.plot(train_losses, linewidth=3, label=\"Train loss\")\n",
    "plt.plot(val_losses, linewidth=3, label=\"Valid loss\")\n",
    "plt.grid()\n",
    "plt.legend(fontsize=30)\n",
    "plt.xlabel(\"Epochs\", fontsize=30)\n",
    "plt.ylabel(\"Loss\", fontsize=30)\n",
    "plt.show()"
   ]
  },
  {
   "cell_type": "code",
   "execution_count": 171,
   "metadata": {
    "collapsed": true
   },
   "outputs": [],
   "source": [
    "tt = torch.cuda if args.cuda else torch\n",
    "target = tt.FloatTensor(getValenceArousal(df=df, songId=12))\n",
    "shortterms = tt.FloatTensor(scaler.transform(getShortTerm(12)))\n",
    "if args.cuda:\n",
    "    shorttermsVar = shortterms.cuda()\n",
    "    target = target.cuda()\n",
    "target = Variable(target).view(-1,2)\n",
    "shorttermsVar = Variable(shortterms)\n",
    "shorttermsVar = shorttermsVar.view(shorttermsVar.size(0),1,33)"
   ]
  },
  {
   "cell_type": "code",
   "execution_count": 175,
   "metadata": {
    "collapsed": true
   },
   "outputs": [],
   "source": [
    "out1= model(shorttermsVar, args.cuda)"
   ]
  },
  {
   "cell_type": "code",
   "execution_count": 176,
   "metadata": {},
   "outputs": [
    {
     "data": {
      "text/plain": [
       "5.4681771993637085"
      ]
     },
     "execution_count": 176,
     "metadata": {},
     "output_type": "execute_result"
    }
   ],
   "source": [
    "out1.data[0,1]*10"
   ]
  },
  {
   "cell_type": "code",
   "execution_count": 177,
   "metadata": {},
   "outputs": [
    {
     "data": {
      "text/plain": [
       "Variable containing:\n",
       " 0.5883\n",
       " 0.5468\n",
       "[torch.cuda.FloatTensor of size 2x1 (GPU 0)]"
      ]
     },
     "execution_count": 177,
     "metadata": {},
     "output_type": "execute_result"
    }
   ],
   "source": [
    "out1.t()"
   ]
  },
  {
   "cell_type": "code",
   "execution_count": 801,
   "metadata": {
    "scrolled": true
   },
   "outputs": [
    {
     "data": {
      "text/plain": [
       "[Parameter containing:\n",
       "  4.4036e-02  1.7066e-01  3.9493e-02  ...   8.9807e-02  1.9173e-02  8.5699e-02\n",
       "  3.4440e-02  3.3277e-02  1.2085e-01  ...  -7.9660e-02  8.3330e-02 -1.1702e-01\n",
       " -1.0108e-01  3.3738e-02 -4.2567e-02  ...  -1.9556e-01 -1.5576e-01 -1.9866e-01\n",
       "                 ...                   ⋱                   ...                \n",
       " -7.5637e-02 -1.4580e-02  3.3025e-02  ...   7.5864e-02  1.8499e-01 -3.9865e-02\n",
       "  1.1696e-01  4.5942e-02  1.0562e-01  ...   1.6747e-01 -9.2520e-02  1.5085e-01\n",
       "  1.1638e-01 -1.1257e-01  1.5411e-01  ...   7.2195e-02 -1.6673e-01  4.4452e-03\n",
       " [torch.FloatTensor of size 120x33], Parameter containing:\n",
       " -1.3485e-01 -1.4152e-01 -1.5621e-01  ...   1.6920e-01 -9.7852e-02 -1.0219e-01\n",
       " -1.0319e-01  8.9539e-02  1.3251e-01  ...  -2.0327e-01 -1.0612e-01  1.4252e-01\n",
       "  7.7742e-02  1.2853e-01  1.1811e-02  ...   1.6655e-01  3.9671e-02  1.0364e-01\n",
       "                 ...                   ⋱                   ...                \n",
       " -1.9411e-01 -7.3102e-02  1.1108e-01  ...  -2.0331e-01  3.8889e-02 -8.6826e-02\n",
       "  9.6512e-02 -1.8899e-01 -1.7952e-02  ...  -2.3981e-02 -4.2631e-02  7.3785e-02\n",
       " -1.4485e-01  9.4762e-02 -4.8019e-03  ...  -1.6069e-01  1.6821e-01  3.7924e-02\n",
       " [torch.FloatTensor of size 120x30]]"
      ]
     },
     "execution_count": 801,
     "metadata": {},
     "output_type": "execute_result"
    }
   ],
   "source": [
    "list(model.lstm1.parameters())[:2]"
   ]
  },
  {
   "cell_type": "code",
   "execution_count": 899,
   "metadata": {
    "collapsed": true
   },
   "outputs": [],
   "source": [
    "torch.save(model.state_dict(), args.model_zoo + args.best_model)"
   ]
  },
  {
   "cell_type": "code",
   "execution_count": 888,
   "metadata": {
    "collapsed": true
   },
   "outputs": [],
   "source": [
    "target = getValenceArousal(df=df, songId=2)"
   ]
  },
  {
   "cell_type": "code",
   "execution_count": 873,
   "metadata": {},
   "outputs": [
    {
     "data": {
      "text/plain": [
       "Variable containing:\n",
       " 0.5500  0.5800\n",
       "[torch.FloatTensor of size 1x2]"
      ]
     },
     "execution_count": 873,
     "metadata": {},
     "output_type": "execute_result"
    }
   ],
   "source": [
    "target"
   ]
  },
  {
   "cell_type": "code",
   "execution_count": 675,
   "metadata": {
    "collapsed": true
   },
   "outputs": [],
   "source": [
    "loss = criterion(out1, target)\n",
    "optimizer.zero_grad()\n",
    "loss.backward()\n",
    "optimizer.step()"
   ]
  },
  {
   "cell_type": "code",
   "execution_count": 676,
   "metadata": {},
   "outputs": [
    {
     "name": "stdout",
     "output_type": "stream",
     "text": [
      "Variable containing:\n",
      "nan\n",
      "[torch.FloatTensor of size 1]\n",
      "\n"
     ]
    }
   ],
   "source": [
    "print(loss)"
   ]
  },
  {
   "cell_type": "code",
   "execution_count": 637,
   "metadata": {},
   "outputs": [
    {
     "data": {
      "text/plain": [
       "Variable containing:\n",
       "1.00000e-02 *\n",
       " -0.2639 -1.3220\n",
       "[torch.FloatTensor of size 1x2]"
      ]
     },
     "execution_count": 637,
     "metadata": {},
     "output_type": "execute_result"
    }
   ],
   "source": [
    "model(shorttermsVar)"
   ]
  },
  {
   "cell_type": "code",
   "execution_count": 638,
   "metadata": {},
   "outputs": [
    {
     "data": {
      "text/plain": [
       "Variable containing:\n",
       " 0.3400  0.2800\n",
       "[torch.FloatTensor of size 1x2]"
      ]
     },
     "execution_count": 638,
     "metadata": {},
     "output_type": "execute_result"
    }
   ],
   "source": [
    "target"
   ]
  },
  {
   "cell_type": "code",
   "execution_count": 639,
   "metadata": {},
   "outputs": [
    {
     "data": {
      "text/plain": [
       "0.2800000011920929"
      ]
     },
     "execution_count": 639,
     "metadata": {},
     "output_type": "execute_result"
    }
   ],
   "source": [
    "target.data[0,1]"
   ]
  },
  {
   "cell_type": "code",
   "execution_count": null,
   "metadata": {
    "collapsed": true
   },
   "outputs": [],
   "source": []
  },
  {
   "cell_type": "code",
   "execution_count": null,
   "metadata": {
    "collapsed": true
   },
   "outputs": [],
   "source": []
  },
  {
   "cell_type": "code",
   "execution_count": null,
   "metadata": {
    "collapsed": true
   },
   "outputs": [],
   "source": []
  },
  {
   "cell_type": "code",
   "execution_count": null,
   "metadata": {
    "collapsed": true
   },
   "outputs": [],
   "source": []
  },
  {
   "cell_type": "code",
   "execution_count": null,
   "metadata": {
    "collapsed": true
   },
   "outputs": [],
   "source": []
  },
  {
   "cell_type": "markdown",
   "metadata": {},
   "source": [
    "# LOAD model"
   ]
  },
  {
   "cell_type": "code",
   "execution_count": 5,
   "metadata": {
    "collapsed": true
   },
   "outputs": [],
   "source": [
    "model_load = LSTMModel(33, 80, 2, 2)    \n",
    "model_load.load_state_dict(torch.load(\"./model_zoo/best_model_test.pth\", map_location=lambda storage, loc: storage))\n"
   ]
  },
  {
   "cell_type": "code",
   "execution_count": 183,
   "metadata": {
    "collapsed": true
   },
   "outputs": [],
   "source": [
    "aDict = {\"valence_mean_predicted\": [], \"arousal_mean_predicted\": []}\n",
    "for i in songId:\n",
    "    shortterms = scaler.transform(getShortTerm(i))\n",
    "    shorttermsVar = Variable(torch.FloatTensor(shortterms))\n",
    "    shorttermsVar = shorttermsVar.view(shorttermsVar.size(0),1,33)\n",
    "    output = model_load(shorttermsVar)\n",
    "    valence, arousal = output.data[0,0]*10, output.data[0,1]*10\n",
    "    aDict[\"valence_mean_predicted\"].append(valence)\n",
    "    aDict[\"arousal_mean_predicted\"].append(arousal)"
   ]
  },
  {
   "cell_type": "code",
   "execution_count": 184,
   "metadata": {
    "collapsed": true
   },
   "outputs": [],
   "source": [
    "aDict[\"songId\"]= songId"
   ]
  },
  {
   "cell_type": "code",
   "execution_count": 185,
   "metadata": {
    "collapsed": true
   },
   "outputs": [],
   "source": [
    "df_predicted = pd.DataFrame.from_dict(aDict)"
   ]
  },
  {
   "cell_type": "code",
   "execution_count": 186,
   "metadata": {},
   "outputs": [
    {
     "data": {
      "text/html": [
       "<div>\n",
       "<table border=\"1\" class=\"dataframe\">\n",
       "  <thead>\n",
       "    <tr style=\"text-align: right;\">\n",
       "      <th></th>\n",
       "      <th>arousal_mean_predicted</th>\n",
       "      <th>songId</th>\n",
       "      <th>valence_mean_predicted</th>\n",
       "    </tr>\n",
       "  </thead>\n",
       "  <tbody>\n",
       "    <tr>\n",
       "      <th>0</th>\n",
       "      <td>5.225573</td>\n",
       "      <td>2</td>\n",
       "      <td>4.947950</td>\n",
       "    </tr>\n",
       "    <tr>\n",
       "      <th>1</th>\n",
       "      <td>3.442300</td>\n",
       "      <td>3</td>\n",
       "      <td>3.580140</td>\n",
       "    </tr>\n",
       "    <tr>\n",
       "      <th>2</th>\n",
       "      <td>5.395491</td>\n",
       "      <td>4</td>\n",
       "      <td>5.387963</td>\n",
       "    </tr>\n",
       "    <tr>\n",
       "      <th>3</th>\n",
       "      <td>4.974052</td>\n",
       "      <td>5</td>\n",
       "      <td>5.292026</td>\n",
       "    </tr>\n",
       "    <tr>\n",
       "      <th>4</th>\n",
       "      <td>5.060851</td>\n",
       "      <td>7</td>\n",
       "      <td>5.031670</td>\n",
       "    </tr>\n",
       "    <tr>\n",
       "      <th>5</th>\n",
       "      <td>3.867198</td>\n",
       "      <td>8</td>\n",
       "      <td>4.256176</td>\n",
       "    </tr>\n",
       "    <tr>\n",
       "      <th>6</th>\n",
       "      <td>4.731344</td>\n",
       "      <td>10</td>\n",
       "      <td>4.746169</td>\n",
       "    </tr>\n",
       "    <tr>\n",
       "      <th>7</th>\n",
       "      <td>5.360028</td>\n",
       "      <td>12</td>\n",
       "      <td>5.791211</td>\n",
       "    </tr>\n",
       "    <tr>\n",
       "      <th>8</th>\n",
       "      <td>4.146194</td>\n",
       "      <td>13</td>\n",
       "      <td>4.520081</td>\n",
       "    </tr>\n",
       "    <tr>\n",
       "      <th>9</th>\n",
       "      <td>5.165197</td>\n",
       "      <td>17</td>\n",
       "      <td>5.596814</td>\n",
       "    </tr>\n",
       "    <tr>\n",
       "      <th>10</th>\n",
       "      <td>4.656226</td>\n",
       "      <td>18</td>\n",
       "      <td>4.856506</td>\n",
       "    </tr>\n",
       "    <tr>\n",
       "      <th>11</th>\n",
       "      <td>6.222934</td>\n",
       "      <td>19</td>\n",
       "      <td>5.941870</td>\n",
       "    </tr>\n",
       "    <tr>\n",
       "      <th>12</th>\n",
       "      <td>6.394715</td>\n",
       "      <td>20</td>\n",
       "      <td>6.405836</td>\n",
       "    </tr>\n",
       "    <tr>\n",
       "      <th>13</th>\n",
       "      <td>4.965897</td>\n",
       "      <td>21</td>\n",
       "      <td>4.977141</td>\n",
       "    </tr>\n",
       "    <tr>\n",
       "      <th>14</th>\n",
       "      <td>5.567721</td>\n",
       "      <td>22</td>\n",
       "      <td>5.650083</td>\n",
       "    </tr>\n",
       "    <tr>\n",
       "      <th>15</th>\n",
       "      <td>4.689220</td>\n",
       "      <td>24</td>\n",
       "      <td>4.930748</td>\n",
       "    </tr>\n",
       "    <tr>\n",
       "      <th>16</th>\n",
       "      <td>5.187880</td>\n",
       "      <td>25</td>\n",
       "      <td>5.543777</td>\n",
       "    </tr>\n",
       "    <tr>\n",
       "      <th>17</th>\n",
       "      <td>5.973851</td>\n",
       "      <td>31</td>\n",
       "      <td>5.765772</td>\n",
       "    </tr>\n",
       "    <tr>\n",
       "      <th>18</th>\n",
       "      <td>5.053971</td>\n",
       "      <td>32</td>\n",
       "      <td>5.443693</td>\n",
       "    </tr>\n",
       "    <tr>\n",
       "      <th>19</th>\n",
       "      <td>5.284619</td>\n",
       "      <td>35</td>\n",
       "      <td>5.502759</td>\n",
       "    </tr>\n",
       "  </tbody>\n",
       "</table>\n",
       "</div>"
      ],
      "text/plain": [
       "    arousal_mean_predicted  songId  valence_mean_predicted\n",
       "0                 5.225573       2                4.947950\n",
       "1                 3.442300       3                3.580140\n",
       "2                 5.395491       4                5.387963\n",
       "3                 4.974052       5                5.292026\n",
       "4                 5.060851       7                5.031670\n",
       "5                 3.867198       8                4.256176\n",
       "6                 4.731344      10                4.746169\n",
       "7                 5.360028      12                5.791211\n",
       "8                 4.146194      13                4.520081\n",
       "9                 5.165197      17                5.596814\n",
       "10                4.656226      18                4.856506\n",
       "11                6.222934      19                5.941870\n",
       "12                6.394715      20                6.405836\n",
       "13                4.965897      21                4.977141\n",
       "14                5.567721      22                5.650083\n",
       "15                4.689220      24                4.930748\n",
       "16                5.187880      25                5.543777\n",
       "17                5.973851      31                5.765772\n",
       "18                5.053971      32                5.443693\n",
       "19                5.284619      35                5.502759"
      ]
     },
     "execution_count": 186,
     "metadata": {},
     "output_type": "execute_result"
    }
   ],
   "source": [
    "df_predicted.head(20)"
   ]
  },
  {
   "cell_type": "code",
   "execution_count": 905,
   "metadata": {
    "collapsed": true
   },
   "outputs": [],
   "source": [
    "col = df_predicted.columns.tolist()"
   ]
  },
  {
   "cell_type": "code",
   "execution_count": 906,
   "metadata": {
    "collapsed": true
   },
   "outputs": [],
   "source": [
    "col = ['songId', 'valence_mean_predicted', 'arousal_mean_predicted']"
   ]
  },
  {
   "cell_type": "code",
   "execution_count": 907,
   "metadata": {
    "collapsed": true
   },
   "outputs": [],
   "source": [
    "df_predicted = df_predicted[col]"
   ]
  },
  {
   "cell_type": "code",
   "execution_count": 908,
   "metadata": {
    "collapsed": true
   },
   "outputs": [],
   "source": [
    "df_predicted.to_csv(\"./dfVALSTMPredictionBestTrainLoss.csv\")"
   ]
  },
  {
   "cell_type": "code",
   "execution_count": 911,
   "metadata": {},
   "outputs": [
    {
     "data": {
      "text/plain": [
       "Variable containing:\n",
       " 0.4800  0.6500\n",
       "[torch.FloatTensor of size 1x2]"
      ]
     },
     "execution_count": 911,
     "metadata": {},
     "output_type": "execute_result"
    }
   ],
   "source": [
    "getValenceArousal(df,35)"
   ]
  },
  {
   "cell_type": "code",
   "execution_count": 193,
   "metadata": {},
   "outputs": [
    {
     "data": {
      "image/png": "[encoded data removed]",
      "text/plain": [
       "<matplotlib.figure.Figure at 0x7fc79af86710>"
      ]
     },
     "metadata": {},
     "output_type": "display_data"
    }
   ],
   "source": [
    "plt.plot(aDict['arousal_mean_predicted'], aDict['valence_mean_predicted'], 'ro')\n",
    "plt.plot(df['arousal_mean'].tolist(), df['valence_mean'], 'bo')\n",
    "plt.show()"
   ]
  },
  {
   "cell_type": "markdown",
   "metadata": {
    "collapsed": true
   },
   "source": [
    "# Get hidden output from LSTM layer"
   ]
  },
  {
   "cell_type": "code",
   "execution_count": 41,
   "metadata": {},
   "outputs": [],
   "source": [
    "aList = []\n",
    "for i in songId:\n",
    "    shortterms = scaler.transform(getShortTerm(i))\n",
    "    shorttermsVar = Variable(torch.FloatTensor(shortterms))\n",
    "    shorttermsVar = shorttermsVar.view(shorttermsVar.size(0),1,33)\n",
    "    _, (h, c)= model_load.lstm1(shorttermsVar)\n",
    "    aList.append(h.data.view(-1).numpy())"
   ]
  },
  {
   "cell_type": "code",
   "execution_count": 42,
   "metadata": {
    "collapsed": true
   },
   "outputs": [],
   "source": [
    "dfHiddenFeatures = pd.DataFrame(aList)"
   ]
  },
  {
   "cell_type": "code",
   "execution_count": 43,
   "metadata": {
    "collapsed": true
   },
   "outputs": [],
   "source": [
    "dfHiddenFeatures.to_csv('./dataframe/dfHiddenFeatures.csv')"
   ]
  },
  {
   "cell_type": "code",
   "execution_count": 44,
   "metadata": {},
   "outputs": [
    {
     "data": {
      "text/html": [
       "<div>\n",
       "<table border=\"1\" class=\"dataframe\">\n",
       "  <thead>\n",
       "    <tr style=\"text-align: right;\">\n",
       "      <th></th>\n",
       "      <th>0</th>\n",
       "      <th>1</th>\n",
       "      <th>2</th>\n",
       "      <th>3</th>\n",
       "      <th>4</th>\n",
       "      <th>5</th>\n",
       "      <th>6</th>\n",
       "      <th>7</th>\n",
       "      <th>8</th>\n",
       "      <th>9</th>\n",
       "      <th>...</th>\n",
       "      <th>150</th>\n",
       "      <th>151</th>\n",
       "      <th>152</th>\n",
       "      <th>153</th>\n",
       "      <th>154</th>\n",
       "      <th>155</th>\n",
       "      <th>156</th>\n",
       "      <th>157</th>\n",
       "      <th>158</th>\n",
       "      <th>159</th>\n",
       "    </tr>\n",
       "  </thead>\n",
       "  <tbody>\n",
       "    <tr>\n",
       "      <th>0</th>\n",
       "      <td>0.000593</td>\n",
       "      <td>0.060167</td>\n",
       "      <td>0.028834</td>\n",
       "      <td>-0.005534</td>\n",
       "      <td>-0.012039</td>\n",
       "      <td>-0.015634</td>\n",
       "      <td>0.056722</td>\n",
       "      <td>0.006053</td>\n",
       "      <td>-0.011204</td>\n",
       "      <td>0.014445</td>\n",
       "      <td>...</td>\n",
       "      <td>-0.004244</td>\n",
       "      <td>-0.046868</td>\n",
       "      <td>0.004451</td>\n",
       "      <td>-0.020912</td>\n",
       "      <td>-0.014719</td>\n",
       "      <td>0.001081</td>\n",
       "      <td>0.000878</td>\n",
       "      <td>-0.006346</td>\n",
       "      <td>-0.010257</td>\n",
       "      <td>0.031382</td>\n",
       "    </tr>\n",
       "    <tr>\n",
       "      <th>1</th>\n",
       "      <td>0.016794</td>\n",
       "      <td>0.029682</td>\n",
       "      <td>-0.038735</td>\n",
       "      <td>0.066277</td>\n",
       "      <td>0.033157</td>\n",
       "      <td>-0.116560</td>\n",
       "      <td>-0.022503</td>\n",
       "      <td>-0.023076</td>\n",
       "      <td>-0.073993</td>\n",
       "      <td>-0.029360</td>\n",
       "      <td>...</td>\n",
       "      <td>-0.031769</td>\n",
       "      <td>-0.034314</td>\n",
       "      <td>0.004654</td>\n",
       "      <td>-0.003986</td>\n",
       "      <td>0.011159</td>\n",
       "      <td>0.009411</td>\n",
       "      <td>-0.004962</td>\n",
       "      <td>-0.022303</td>\n",
       "      <td>0.003772</td>\n",
       "      <td>0.009494</td>\n",
       "    </tr>\n",
       "    <tr>\n",
       "      <th>2</th>\n",
       "      <td>0.024344</td>\n",
       "      <td>-0.003684</td>\n",
       "      <td>0.061999</td>\n",
       "      <td>0.004546</td>\n",
       "      <td>-0.033585</td>\n",
       "      <td>0.088068</td>\n",
       "      <td>0.052630</td>\n",
       "      <td>0.011006</td>\n",
       "      <td>-0.025468</td>\n",
       "      <td>0.020444</td>\n",
       "      <td>...</td>\n",
       "      <td>-0.009197</td>\n",
       "      <td>-0.046493</td>\n",
       "      <td>-0.002118</td>\n",
       "      <td>-0.004183</td>\n",
       "      <td>0.002550</td>\n",
       "      <td>0.000299</td>\n",
       "      <td>0.001702</td>\n",
       "      <td>-0.006680</td>\n",
       "      <td>-0.008872</td>\n",
       "      <td>0.007989</td>\n",
       "    </tr>\n",
       "    <tr>\n",
       "      <th>3</th>\n",
       "      <td>-0.026184</td>\n",
       "      <td>0.019066</td>\n",
       "      <td>0.018694</td>\n",
       "      <td>0.006746</td>\n",
       "      <td>0.004495</td>\n",
       "      <td>0.041304</td>\n",
       "      <td>-0.010962</td>\n",
       "      <td>-0.017689</td>\n",
       "      <td>0.023157</td>\n",
       "      <td>0.030066</td>\n",
       "      <td>...</td>\n",
       "      <td>-0.011042</td>\n",
       "      <td>-0.042471</td>\n",
       "      <td>-0.015822</td>\n",
       "      <td>0.013292</td>\n",
       "      <td>0.006990</td>\n",
       "      <td>0.002237</td>\n",
       "      <td>-0.006627</td>\n",
       "      <td>-0.025501</td>\n",
       "      <td>-0.012994</td>\n",
       "      <td>0.005698</td>\n",
       "    </tr>\n",
       "    <tr>\n",
       "      <th>4</th>\n",
       "      <td>-0.058277</td>\n",
       "      <td>0.019705</td>\n",
       "      <td>-0.003511</td>\n",
       "      <td>-0.057026</td>\n",
       "      <td>0.014113</td>\n",
       "      <td>0.051973</td>\n",
       "      <td>0.003513</td>\n",
       "      <td>-0.011199</td>\n",
       "      <td>-0.023297</td>\n",
       "      <td>0.032917</td>\n",
       "      <td>...</td>\n",
       "      <td>-0.005447</td>\n",
       "      <td>-0.039411</td>\n",
       "      <td>0.001856</td>\n",
       "      <td>-0.018505</td>\n",
       "      <td>-0.001068</td>\n",
       "      <td>-0.005463</td>\n",
       "      <td>0.004466</td>\n",
       "      <td>-0.013750</td>\n",
       "      <td>0.004538</td>\n",
       "      <td>0.026163</td>\n",
       "    </tr>\n",
       "  </tbody>\n",
       "</table>\n",
       "<p>5 rows × 160 columns</p>\n",
       "</div>"
      ],
      "text/plain": [
       "        0         1         2         3         4         5         6    \\\n",
       "0  0.000593  0.060167  0.028834 -0.005534 -0.012039 -0.015634  0.056722   \n",
       "1  0.016794  0.029682 -0.038735  0.066277  0.033157 -0.116560 -0.022503   \n",
       "2  0.024344 -0.003684  0.061999  0.004546 -0.033585  0.088068  0.052630   \n",
       "3 -0.026184  0.019066  0.018694  0.006746  0.004495  0.041304 -0.010962   \n",
       "4 -0.058277  0.019705 -0.003511 -0.057026  0.014113  0.051973  0.003513   \n",
       "\n",
       "        7         8         9      ...          150       151       152  \\\n",
       "0  0.006053 -0.011204  0.014445    ...    -0.004244 -0.046868  0.004451   \n",
       "1 -0.023076 -0.073993 -0.029360    ...    -0.031769 -0.034314  0.004654   \n",
       "2  0.011006 -0.025468  0.020444    ...    -0.009197 -0.046493 -0.002118   \n",
       "3 -0.017689  0.023157  0.030066    ...    -0.011042 -0.042471 -0.015822   \n",
       "4 -0.011199 -0.023297  0.032917    ...    -0.005447 -0.039411  0.001856   \n",
       "\n",
       "        153       154       155       156       157       158       159  \n",
       "0 -0.020912 -0.014719  0.001081  0.000878 -0.006346 -0.010257  0.031382  \n",
       "1 -0.003986  0.011159  0.009411 -0.004962 -0.022303  0.003772  0.009494  \n",
       "2 -0.004183  0.002550  0.000299  0.001702 -0.006680 -0.008872  0.007989  \n",
       "3  0.013292  0.006990  0.002237 -0.006627 -0.025501 -0.012994  0.005698  \n",
       "4 -0.018505 -0.001068 -0.005463  0.004466 -0.013750  0.004538  0.026163  \n",
       "\n",
       "[5 rows x 160 columns]"
      ]
     },
     "execution_count": 44,
     "metadata": {},
     "output_type": "execute_result"
    }
   ],
   "source": [
    "dfHiddenFeatures.head()"
   ]
  },
  {
   "cell_type": "code",
   "execution_count": null,
   "metadata": {
    "collapsed": true
   },
   "outputs": [],
   "source": []
  }
 ],
 "metadata": {
  "kernelspec": {
   "display_name": "Python 3",
   "language": "python",
   "name": "python3"
  },
  "language_info": {
   "codemirror_mode": {
    "name": "ipython",
    "version": 3
   },
   "file_extension": ".py",
   "mimetype": "text/x-python",
   "name": "python",
   "nbconvert_exporter": "python",
   "pygments_lexer": "ipython3",
   "version": "3.5.3"
  }
 },
 "nbformat": 4,
 "nbformat_minor": 2
}
