{
 "cells": [
  {
   "cell_type": "code",
   "execution_count": 2,
   "metadata": {
    "collapsed": true
   },
   "outputs": [],
   "source": [
    "import os\n",
    "import pandas as pd\n",
    "import numpy as np\n",
    "import pickle\n",
    "from decimal import Decimal\n",
    "import time\n",
    "import argparse"
   ]
  },
  {
   "cell_type": "code",
   "execution_count": 3,
   "metadata": {
    "collapsed": true
   },
   "outputs": [],
   "source": [
    "import torch\n",
    "import torch.nn as nn\n",
    "import torch.nn.functional as F\n",
    "from torch.autograd import Variable\n",
    "import torch.optim as optim"
   ]
  },
  {
   "cell_type": "markdown",
   "metadata": {},
   "source": [
    "# Prepare Data"
   ]
  },
  {
   "cell_type": "code",
   "execution_count": 401,
   "metadata": {
    "collapsed": true
   },
   "outputs": [],
   "source": [
    "parser = {\n",
    "    'epochs': 3,\n",
    "    'batch_size': 1,\n",
    "    'lr': 0.001,\n",
    "    'cuda': False,\n",
    "    'seed': 7,\n",
    "    'results': './results',\n",
    "    'model_zoo': './model_zoo',\n",
    "    'best_model': '/best_model.pth'\n",
    "}\n",
    "\n",
    "args = argparse.Namespace(**parser)\n",
    "args.cuda = args.cuda and torch.cuda.is_available()\n",
    "if not os.path.isdir(args.results):\n",
    "    os.makedirs(args.results)\n",
    "if not os.path.isdir(args.model_zoo):\n",
    "    os.makedirs(args.model_zoo) \n",
    "torch.manual_seed(args.seed)\n",
    "if args.cuda:\n",
    "    torch.cuda.manual_seed(args.seed)"
   ]
  },
  {
   "cell_type": "markdown",
   "metadata": {
    "heading_collapsed": true
   },
   "source": [
    "## Read CSV"
   ]
  },
  {
   "cell_type": "code",
   "execution_count": 5,
   "metadata": {
    "collapsed": true,
    "hidden": true
   },
   "outputs": [],
   "source": [
    "songs_1_2000 = pd.read_csv('./static_annotations_averaged_songs_1_2000.csv', sep='\\s*,\\s*', engine='python')"
   ]
  },
  {
   "cell_type": "code",
   "execution_count": 6,
   "metadata": {
    "collapsed": true,
    "hidden": true
   },
   "outputs": [],
   "source": [
    "song_2000s = pd.read_csv('./static_annotations_averaged_songs_2000_2058.csv', sep='\\s*,\\s*', engine='python')"
   ]
  },
  {
   "cell_type": "code",
   "execution_count": 7,
   "metadata": {
    "collapsed": true,
    "hidden": true
   },
   "outputs": [],
   "source": [
    "del songs_1_2000['valence_std']\n",
    "del songs_1_2000['arousal_std']\n",
    "for header in list(song_2000s.columns.values):\n",
    "    if header != 'song_id' and header != 'valence_mean' and header != 'arousal_mean':\n",
    "        del song_2000s[header]"
   ]
  },
  {
   "cell_type": "code",
   "execution_count": 8,
   "metadata": {
    "collapsed": true,
    "hidden": true
   },
   "outputs": [],
   "source": [
    "df = songs_1_2000.append(song_2000s)"
   ]
  },
  {
   "cell_type": "code",
   "execution_count": 10,
   "metadata": {
    "collapsed": true,
    "hidden": true
   },
   "outputs": [],
   "source": [
    "# Save our dataframe\n",
    "#df_out = open(\"./df_songs\", \"wb\")\n",
    "#pickle.dump(df, df_out)"
   ]
  },
  {
   "cell_type": "markdown",
   "metadata": {},
   "source": [
    "# Read data"
   ]
  },
  {
   "cell_type": "code",
   "execution_count": 887,
   "metadata": {
    "collapsed": true
   },
   "outputs": [],
   "source": [
    "df_out = open(\"./df_songs\", \"rb\")\n",
    "df = pickle.load(df_out)"
   ]
  },
  {
   "cell_type": "code",
   "execution_count": 341,
   "metadata": {
    "collapsed": true
   },
   "outputs": [],
   "source": [
    "def getValenceArousal(df, songId):\n",
    "    valence = df.loc[df['song_id'] == songId]['valence_mean'].tolist()[0]\n",
    "    arousal = df.loc[df['song_id'] == songId]['arousal_mean'].tolist()[0]\n",
    "    target = (valence/10, arousal/10)\n",
    "    return Variable(torch.Tensor(list(target)).view(-1, 2))"
   ]
  },
  {
   "cell_type": "code",
   "execution_count": 455,
   "metadata": {
    "collapsed": true
   },
   "outputs": [],
   "source": [
    "def getValence(df, songId):\n",
    "    valence = df.loc[df['song_id'] == songId]['valence_mean'].tolist()[0]\n",
    "    target = valence/10\n",
    "    return Variable(torch.Tensor([target])).view(-1,1)"
   ]
  },
  {
   "cell_type": "code",
   "execution_count": 13,
   "metadata": {
    "collapsed": true
   },
   "outputs": [],
   "source": [
    "listSongs = os.listdir('./my_features/')"
   ]
  },
  {
   "cell_type": "code",
   "execution_count": 14,
   "metadata": {
    "collapsed": true
   },
   "outputs": [],
   "source": [
    "songId = df['song_id']"
   ]
  },
  {
   "cell_type": "code",
   "execution_count": 15,
   "metadata": {
    "collapsed": true
   },
   "outputs": [],
   "source": [
    "songId = songId.tolist()"
   ]
  },
  {
   "cell_type": "code",
   "execution_count": 16,
   "metadata": {
    "collapsed": true
   },
   "outputs": [],
   "source": [
    "def getLongterm(songId):\n",
    "    f = open(\"./my_features/\"+str(songId), \"rb\")\n",
    "    longterm = pickle.load(f, encoding='latin1')\n",
    "    longterm = list(map(roundUp, longterm))\n",
    "    return longterm"
   ]
  },
  {
   "cell_type": "code",
   "execution_count": 17,
   "metadata": {
    "collapsed": true
   },
   "outputs": [],
   "source": [
    "def getShortTerm(songId):\n",
    "    f = open(\"./my_features/\"+str(songId), 'rb')\n",
    "    shortterms = pickle.load(f, encoding='latin1')\n",
    "    return shortterms"
   ]
  },
  {
   "cell_type": "code",
   "execution_count": 18,
   "metadata": {
    "collapsed": true
   },
   "outputs": [],
   "source": [
    "def roundUp(x):\n",
    "    return round(float(Decimal(x)), 2)"
   ]
  },
  {
   "cell_type": "markdown",
   "metadata": {},
   "source": [
    "# Get alll short term and scale it"
   ]
  },
  {
   "cell_type": "code",
   "execution_count": 553,
   "metadata": {
    "collapsed": true
   },
   "outputs": [],
   "source": [
    "from sklearn.preprocessing import MinMaxScaler"
   ]
  },
  {
   "cell_type": "code",
   "execution_count": 554,
   "metadata": {
    "collapsed": true
   },
   "outputs": [],
   "source": [
    "scaler = MinMaxScaler(feature_range=(0,1))"
   ]
  },
  {
   "cell_type": "code",
   "execution_count": 555,
   "metadata": {
    "collapsed": true
   },
   "outputs": [],
   "source": [
    "all_shortterms = []\n",
    "for i in songId:\n",
    "    all_shortterms += (getShortTerm(i))"
   ]
  },
  {
   "cell_type": "code",
   "execution_count": 556,
   "metadata": {
    "collapsed": false
   },
   "outputs": [
    {
     "data": {
      "text/plain": [
       "MinMaxScaler(copy=True, feature_range=(0, 1))"
      ]
     },
     "execution_count": 556,
     "metadata": {},
     "output_type": "execute_result"
    }
   ],
   "source": [
    "scaler.fit(all_shortterms)"
   ]
  },
  {
   "cell_type": "code",
   "execution_count": 863,
   "metadata": {
    "collapsed": true
   },
   "outputs": [],
   "source": [
    "import pickle"
   ]
  },
  {
   "cell_type": "code",
   "execution_count": 866,
   "metadata": {
    "collapsed": true
   },
   "outputs": [],
   "source": [
    "def save_scaler(scaler, fileName):\n",
    "    f = open('./'+fileName, 'wb')\n",
    "    pickle.dump(scaler, f, protocol=2)"
   ]
  },
  {
   "cell_type": "code",
   "execution_count": 867,
   "metadata": {
    "collapsed": true
   },
   "outputs": [],
   "source": [
    "save_scaler(scaler, \"./model_zoo/scalerForShortTerms.sav\")"
   ]
  },
  {
   "cell_type": "markdown",
   "metadata": {
    "collapsed": true
   },
   "source": [
    "# Model"
   ]
  },
  {
   "cell_type": "code",
   "execution_count": 825,
   "metadata": {
    "collapsed": false
   },
   "outputs": [],
   "source": [
    "class LSTMModel(nn.Module):\n",
    "    \n",
    "    def __init__(self, d_input, d_hidden_lstm, num_layer, d_output):\n",
    "        super(LSTMModel, self).__init__()\n",
    "        self.lstm1 = nn.LSTM(d_input, d_hidden_lstm, num_layer)\n",
    "        self.linear1 = nn.Linear(d_hidden_lstm*num_layer, d_output)\n",
    "        self.d_hidden_lstm = d_hidden_lstm\n",
    "        self.num_layer = num_layer\n",
    "\n",
    "    def forward(self, x):\n",
    "        h = Variable(torch.FloatTensor(self.num_layer, x.size(1),self.d_hidden_lstm).zero_(), requires_grad=False)\n",
    "        c = Variable(torch.FloatTensor(self.num_layer, x.size(1), self.d_hidden_lstm).zero_(), requires_grad=False)\n",
    "        _, (h_t, c_t) = self.lstm1(x, (h, c))\n",
    "        #h_t = F.tanh(h_t.squeeze(0))\n",
    "        h_t = F.tanh(h_t)\n",
    "        out = self.linear1(h_t.view(-1, self.d_hidden_lstm*self.num_layer))\n",
    "        return out\n",
    "    "
   ]
  },
  {
   "cell_type": "code",
   "execution_count": 809,
   "metadata": {
    "collapsed": true
   },
   "outputs": [],
   "source": [
    "def train(epoch, model, listSongId, optimizer, criterion, start_time):\n",
    "    train_loss = 0\n",
    "    n_total = 0\n",
    "    listSongId_val = listSongId[:int(len(listSongId)* 3/20)]\n",
    "    listSongId_train = listSongId[int(len(listSongId)* 3/20):]\n",
    "    for i in listSongId_train:\n",
    "        model.train()\n",
    "        shortterms = scaler.transform(getShortTerm(i))\n",
    "        shorttermsVar = Variable(torch.FloatTensor(shortterms))\n",
    "        shorttermsVar = shorttermsVar.view(shorttermsVar.size(0),1,33)\n",
    "        target = getValenceArousal(df=df, songId=i)\n",
    "        if args.cuda:\n",
    "            shorttermsVar = shorttermsVar.cuda()\n",
    "            target = target.cuda()\n",
    "            \n",
    "        output = model(shorttermsVar)\n",
    "        \n",
    "        loss = criterion(output, target)\n",
    "        train_loss += loss.data[0]*10\n",
    "        optimizer.zero_grad()\n",
    "        loss.backward()\n",
    "        torch.nn.utils.clip_grad_norm(model.parameters(), 3)\n",
    "        optimizer.step()\n",
    "        n_total += 1\n",
    "\n",
    "    train_loss /= n_total\n",
    "    valid_loss, valence_e_rate, arousal_e_rate = validate(model, listSongId_val, criterion)\n",
    "    \n",
    "    print(\"=> EPOCH {}|Time: {:3.0f}s | Song Id: {:5} | Train loss: {:.4f} | Val loss: {:.4f}\"\n",
    "          \"| Valence: {:.4f} | Arousal: {:.4f}\"\n",
    "                  .format(epoch, time.time()-start_time, i, train_loss, valid_loss, valence_e_rate, arousal_e_rate))\n",
    "    return valid_loss"
   ]
  },
  {
   "cell_type": "code",
   "execution_count": 810,
   "metadata": {
    "collapsed": true
   },
   "outputs": [],
   "source": [
    "def validate(model, listSongId_val, criterion):\n",
    "    model.eval()\n",
    "    valid_loss = 0\n",
    "    valence_rate = 0\n",
    "    arousal_rate = 0\n",
    "    \n",
    "    n_total = len(listSongId_val)\n",
    "    for i in listSongId_val:\n",
    "        shortterms = scaler.transform(getShortTerm(i))\n",
    "        shorttermsVar = Variable(torch.FloatTensor(shortterms))\n",
    "        shorttermsVar = shorttermsVar.view(shorttermsVar.size(0),1,33)\n",
    "        target = getValenceArousal(df=df, songId=i)\n",
    "        if args.cuda:\n",
    "            shorttermsVar = shorttermsVar.cuda()\n",
    "            target = target.cuda()\n",
    "            \n",
    "        output = model(shorttermsVar)\n",
    "        loss = criterion(output, target)\n",
    "        valid_loss += loss.data[0]*10\n",
    "        valence_error_rate = abs(output.data[0,0]-target.data[0,0])/target.data[0,0]\n",
    "        arousal_error_rate = abs(output.data[0,1]-target.data[0,1])/target.data[0,1]\n",
    "        valence_rate += valence_error_rate\n",
    "        arousal_rate += arousal_error_rate\n",
    "    valid_loss /= n_total\n",
    "    valence_rate /= n_total\n",
    "    arousal_rate /= n_total\n",
    "    return (valid_loss, valence_rate, arousal_rate)"
   ]
  },
  {
   "cell_type": "code",
   "execution_count": 826,
   "metadata": {
    "collapsed": true
   },
   "outputs": [],
   "source": [
    "model = LSTMModel(33, 50, 2, 2)\n",
    "criterion = nn.MSELoss()\n",
    "optimizer = optim.Adagrad(model.parameters(), lr=0.001)\n",
    "if args.cuda:\n",
    "    model = model.cuda()\n",
    "    criterion = criterion.cuda()\n",
    "    optimizer = optimizer.cuda()"
   ]
  },
  {
   "cell_type": "code",
   "execution_count": 827,
   "metadata": {
    "collapsed": false
   },
   "outputs": [
    {
     "data": {
      "text/plain": [
       "<bound method Module.parameters of LSTMModel (\n",
       "  (lstm1): LSTM(33, 50, num_layers=2)\n",
       "  (linear1): Linear (100 -> 2)\n",
       ")>"
      ]
     },
     "execution_count": 827,
     "metadata": {},
     "output_type": "execute_result"
    }
   ],
   "source": [
    "model.parameters"
   ]
  },
  {
   "cell_type": "code",
   "execution_count": 835,
   "metadata": {
    "collapsed": false,
    "scrolled": true
   },
   "outputs": [
    {
     "name": "stdout",
     "output_type": "stream",
     "text": [
      "=> EPOCH 0|Time: 107s | Song Id:  2058 | Train loss: 0.0924 | Val loss: 0.1368| Valence: 0.2378 | Arousal: 0.2415\n",
      "=> EPOCH 1|Time: 107s | Song Id:  2058 | Train loss: 0.0914 | Val loss: 0.1365| Valence: 0.2362 | Arousal: 0.2416\n",
      "=> EPOCH 2|Time: 107s | Song Id:  2058 | Train loss: 0.0905 | Val loss: 0.1363| Valence: 0.2346 | Arousal: 0.2419\n",
      "=> EPOCH 3|Time: 107s | Song Id:  2058 | Train loss: 0.0896 | Val loss: 0.1362| Valence: 0.2331 | Arousal: 0.2422\n",
      "=> EPOCH 4|Time: 106s | Song Id:  2058 | Train loss: 0.0888 | Val loss: 0.1361| Valence: 0.2316 | Arousal: 0.2427\n",
      "=> EPOCH 5|Time: 108s | Song Id:  2058 | Train loss: 0.0881 | Val loss: 0.1361| Valence: 0.2302 | Arousal: 0.2432\n",
      "=> EPOCH 6|Time: 108s | Song Id:  2058 | Train loss: 0.0873 | Val loss: 0.1362| Valence: 0.2288 | Arousal: 0.2436\n",
      "=> EPOCH 7|Time: 107s | Song Id:  2058 | Train loss: 0.0867 | Val loss: 0.1363| Valence: 0.2274 | Arousal: 0.2441\n",
      "=> EPOCH 8|Time: 107s | Song Id:  2058 | Train loss: 0.0860 | Val loss: 0.1364| Valence: 0.2260 | Arousal: 0.2446\n",
      "=> EPOCH 9|Time: 107s | Song Id:  2058 | Train loss: 0.0854 | Val loss: 0.1366| Valence: 0.2246 | Arousal: 0.2452\n",
      "=> EPOCH 10|Time: 107s | Song Id:  2058 | Train loss: 0.0849 | Val loss: 0.1368| Valence: 0.2233 | Arousal: 0.2458\n",
      "=> EPOCH 11|Time: 107s | Song Id:  2058 | Train loss: 0.0844 | Val loss: 0.1371| Valence: 0.2219 | Arousal: 0.2463\n",
      "=> EPOCH 12|Time: 106s | Song Id:  2058 | Train loss: 0.0839 | Val loss: 0.1373| Valence: 0.2206 | Arousal: 0.2468\n",
      "=> EPOCH 13|Time: 106s | Song Id:  2058 | Train loss: 0.0835 | Val loss: 0.1376| Valence: 0.2194 | Arousal: 0.2473\n",
      "=> EPOCH 14|Time: 105s | Song Id:  2058 | Train loss: 0.0831 | Val loss: 0.1379| Valence: 0.2181 | Arousal: 0.2478\n",
      "=> EPOCH 15|Time: 106s | Song Id:  2058 | Train loss: 0.0828 | Val loss: 0.1382| Valence: 0.2170 | Arousal: 0.2482\n",
      "=> EPOCH 16|Time: 107s | Song Id:  2058 | Train loss: 0.0825 | Val loss: 0.1385| Valence: 0.2158 | Arousal: 0.2486\n",
      "=> EPOCH 17|Time: 108s | Song Id:  2058 | Train loss: 0.0822 | Val loss: 0.1388| Valence: 0.2148 | Arousal: 0.2490\n",
      "=> EPOCH 18|Time: 108s | Song Id:  2058 | Train loss: 0.0819 | Val loss: 0.1391| Valence: 0.2138 | Arousal: 0.2494\n",
      "=> EPOCH 19|Time: 107s | Song Id:  2058 | Train loss: 0.0817 | Val loss: 0.1394| Valence: 0.2129 | Arousal: 0.2497\n"
     ]
    }
   ],
   "source": [
    "best_valid_loss = 100\n",
    "for epoch in range(0, 20):\n",
    "    start_time = time.time()\n",
    "    #train_test(epoch, model, listSongId=songId, optimizer=optimizer, criterion=criterion)\n",
    "    valid_loss = train(epoch, model, listSongId=songId, optimizer=optimizer, criterion=criterion, start_time=start_time)\n",
    "    #if valid_loss < best_valid_loss:\n",
    "    #    best_valid_loss = valid_loss\n",
    "    #    torch.save(model.state_dict(), args.model_zoo + args.best_model)"
   ]
  },
  {
   "cell_type": "markdown",
   "metadata": {},
   "source": [
    "=> EPOCH 0|Time: 104s | Song Id:  2058 | Train loss: 0.1326 | Val loss: 0.1504| Valence: 0.2673 | Arousal: 0.2515\n",
    "=> EPOCH 1|Time: 105s | Song Id:  2058 | Train loss: 0.1052 | Val loss: 0.1467| Valence: 0.2604 | Arousal: 0.2491\n",
    "=> EPOCH 2|Time: 106s | Song Id:  2058 | Train loss: 0.1029 | Val loss: 0.1442| Valence: 0.2558 | Arousal: 0.2466\n",
    "=> EPOCH 3|Time: 106s | Song Id:  2058 | Train loss: 0.1011 | Val loss: 0.1424| Valence: 0.2522 | Arousal: 0.2448\n",
    "=> EPOCH 4|Time: 105s | Song Id:  2058 | Train loss: 0.0995 | Val loss: 0.1410| Valence: 0.2494 | Arousal: 0.2436\n",
    "=> EPOCH 5|Time: 105s | Song Id:  2058 | Train loss: 0.0981 | Val loss: 0.1399| Valence: 0.2470 | Arousal: 0.2427\n",
    "=> EPOCH 6|Time: 107s | Song Id:  2058 | Train loss: 0.0968 | Val loss: 0.1390| Valence: 0.2449 | Arousal: 0.2421\n",
    "=> EPOCH 7|Time: 107s | Song Id:  2058 | Train loss: 0.0956 | Val loss: 0.1382| Valence: 0.2429 | Arousal: 0.2416\n",
    "=> EPOCH 8|Time: 109s | Song Id:  2058 | Train loss: 0.0945 | Val loss: 0.1377| Valence: 0.2412 | Arousal: 0.2414\n",
    "=> EPOCH 9|Time: 111s | Song Id:  2058 | Train loss: 0.0934 | Val loss: 0.1372| Valence: 0.2394 | Arousal: 0.2414\n"
   ]
  },
  {
   "cell_type": "code",
   "execution_count": 841,
   "metadata": {
    "collapsed": true
   },
   "outputs": [],
   "source": [
    "train_losses = [0.1326, 0.1052, 0.1029, 0.1011, 0.0995, 0.0981, 0.0968, \n",
    " 0.0956, 0.0945, 0.0934, 0.0924, 0.0914, 0.0905, 0.0896, \n",
    " 0.0888, 0.0881, 0.0873, 0.0867, 0.0860, 0.0854, 0.0849,\n",
    " 0.0844, 0.0839, 0.0835, 0.0831, 0.0828, 0.0825, 0.0822,\n",
    " 0.0819, 0.0817]\n",
    "val_losses = [0.1504, 0.1467, 0.1442, 0.1424, 0.1410, 0.1399, 0.1390,\n",
    "              0.1382, 0.1377, 0.1372, 0.1368, 0.1365, 0.1363, 0.1362,\n",
    "              0.1361, 0.1361, 0.1362, 0.1363, 0.1364, 0.1366, 0.1368,\n",
    "              0.1371, 0.1373, 0.1376, 0.1379, 0.1382, 0.1385, 0.1388, \n",
    "              0.1391, 0.1394]"
   ]
  },
  {
   "cell_type": "code",
   "execution_count": 842,
   "metadata": {
    "collapsed": true
   },
   "outputs": [],
   "source": [
    "import matplotlib.pyplot as plt\n",
    "%matplotlib inline"
   ]
  },
  {
   "cell_type": "code",
   "execution_count": 850,
   "metadata": {
    "collapsed": false
   },
   "outputs": [],
   "source": [
    "from pylab import rcParams\n",
    "rcParams['figure.figsize'] = 30, 20\n",
    "rcParams['xtick.labelsize'] = 22\n",
    "rcParams['ytick.labelsize'] = 22"
   ]
  },
  {
   "cell_type": "code",
   "execution_count": 856,
   "metadata": {
    "collapsed": false
   },
   "outputs": [
    {
     "data": {
      "image/png": "[encoded data removed]",
      "text/plain": [
       "<matplotlib.figure.Figure at 0x7f95f3c89668>"
      ]
     },
     "metadata": {},
     "output_type": "display_data"
    }
   ],
   "source": [
    "plt.plot(train_losses, linewidth=3, label=\"Train loss\")\n",
    "plt.plot(val_losses, linewidth=3, label=\"Valid loss\")\n",
    "plt.grid()\n",
    "plt.legend(fontsize=30)\n",
    "plt.xlabel(\"Epochs\", fontsize=30)\n",
    "plt.ylabel(\"Loss\", fontsize=30)\n",
    "plt.show()"
   ]
  },
  {
   "cell_type": "code",
   "execution_count": 860,
   "metadata": {
    "collapsed": false
   },
   "outputs": [],
   "source": [
    "shortterms = scaler.transform(getShortTerm(12))\n",
    "#shortterms = getShortTerm(12)\n",
    "shorttermsVar = Variable(torch.FloatTensor(shortterms))\n",
    "shorttermsVar = shorttermsVar.view(shorttermsVar.size(0),1,33)"
   ]
  },
  {
   "cell_type": "code",
   "execution_count": 861,
   "metadata": {
    "collapsed": false
   },
   "outputs": [],
   "source": [
    "out1= model(shorttermsVar)"
   ]
  },
  {
   "cell_type": "code",
   "execution_count": 875,
   "metadata": {
    "collapsed": false
   },
   "outputs": [
    {
     "data": {
      "text/plain": [
       "5.179820656776428"
      ]
     },
     "execution_count": 875,
     "metadata": {},
     "output_type": "execute_result"
    }
   ],
   "source": [
    "out1.data[0,1]*10"
   ]
  },
  {
   "cell_type": "code",
   "execution_count": 859,
   "metadata": {
    "collapsed": false
   },
   "outputs": [
    {
     "data": {
      "text/plain": [
       "Variable containing:\n",
       " 0.7113\n",
       " 0.3815\n",
       "[torch.FloatTensor of size 2x1]"
      ]
     },
     "execution_count": 859,
     "metadata": {},
     "output_type": "execute_result"
    }
   ],
   "source": [
    "out1.t()"
   ]
  },
  {
   "cell_type": "code",
   "execution_count": 801,
   "metadata": {
    "collapsed": false,
    "scrolled": true
   },
   "outputs": [
    {
     "data": {
      "text/plain": [
       "[Parameter containing:\n",
       "  4.4036e-02  1.7066e-01  3.9493e-02  ...   8.9807e-02  1.9173e-02  8.5699e-02\n",
       "  3.4440e-02  3.3277e-02  1.2085e-01  ...  -7.9660e-02  8.3330e-02 -1.1702e-01\n",
       " -1.0108e-01  3.3738e-02 -4.2567e-02  ...  -1.9556e-01 -1.5576e-01 -1.9866e-01\n",
       "                 ...                   ⋱                   ...                \n",
       " -7.5637e-02 -1.4580e-02  3.3025e-02  ...   7.5864e-02  1.8499e-01 -3.9865e-02\n",
       "  1.1696e-01  4.5942e-02  1.0562e-01  ...   1.6747e-01 -9.2520e-02  1.5085e-01\n",
       "  1.1638e-01 -1.1257e-01  1.5411e-01  ...   7.2195e-02 -1.6673e-01  4.4452e-03\n",
       " [torch.FloatTensor of size 120x33], Parameter containing:\n",
       " -1.3485e-01 -1.4152e-01 -1.5621e-01  ...   1.6920e-01 -9.7852e-02 -1.0219e-01\n",
       " -1.0319e-01  8.9539e-02  1.3251e-01  ...  -2.0327e-01 -1.0612e-01  1.4252e-01\n",
       "  7.7742e-02  1.2853e-01  1.1811e-02  ...   1.6655e-01  3.9671e-02  1.0364e-01\n",
       "                 ...                   ⋱                   ...                \n",
       " -1.9411e-01 -7.3102e-02  1.1108e-01  ...  -2.0331e-01  3.8889e-02 -8.6826e-02\n",
       "  9.6512e-02 -1.8899e-01 -1.7952e-02  ...  -2.3981e-02 -4.2631e-02  7.3785e-02\n",
       " -1.4485e-01  9.4762e-02 -4.8019e-03  ...  -1.6069e-01  1.6821e-01  3.7924e-02\n",
       " [torch.FloatTensor of size 120x30]]"
      ]
     },
     "execution_count": 801,
     "metadata": {},
     "output_type": "execute_result"
    }
   ],
   "source": [
    "list(model.lstm1.parameters())[:2]"
   ]
  },
  {
   "cell_type": "code",
   "execution_count": 899,
   "metadata": {
    "collapsed": true
   },
   "outputs": [],
   "source": [
    "torch.save(model.state_dict(), args.model_zoo + args.best_model)"
   ]
  },
  {
   "cell_type": "code",
   "execution_count": 888,
   "metadata": {
    "collapsed": false
   },
   "outputs": [],
   "source": [
    "target = getValenceArousal(df=df, songId=2)"
   ]
  },
  {
   "cell_type": "code",
   "execution_count": 873,
   "metadata": {
    "collapsed": false
   },
   "outputs": [
    {
     "data": {
      "text/plain": [
       "Variable containing:\n",
       " 0.5500  0.5800\n",
       "[torch.FloatTensor of size 1x2]"
      ]
     },
     "execution_count": 873,
     "metadata": {},
     "output_type": "execute_result"
    }
   ],
   "source": [
    "target"
   ]
  },
  {
   "cell_type": "code",
   "execution_count": 675,
   "metadata": {
    "collapsed": false
   },
   "outputs": [],
   "source": [
    "loss = criterion(out1, target)\n",
    "optimizer.zero_grad()\n",
    "loss.backward()\n",
    "optimizer.step()"
   ]
  },
  {
   "cell_type": "code",
   "execution_count": 676,
   "metadata": {
    "collapsed": false
   },
   "outputs": [
    {
     "name": "stdout",
     "output_type": "stream",
     "text": [
      "Variable containing:\n",
      "nan\n",
      "[torch.FloatTensor of size 1]\n",
      "\n"
     ]
    }
   ],
   "source": [
    "print(loss)"
   ]
  },
  {
   "cell_type": "code",
   "execution_count": 637,
   "metadata": {
    "collapsed": false
   },
   "outputs": [
    {
     "data": {
      "text/plain": [
       "Variable containing:\n",
       "1.00000e-02 *\n",
       " -0.2639 -1.3220\n",
       "[torch.FloatTensor of size 1x2]"
      ]
     },
     "execution_count": 637,
     "metadata": {},
     "output_type": "execute_result"
    }
   ],
   "source": [
    "model(shorttermsVar)"
   ]
  },
  {
   "cell_type": "code",
   "execution_count": 638,
   "metadata": {
    "collapsed": false
   },
   "outputs": [
    {
     "data": {
      "text/plain": [
       "Variable containing:\n",
       " 0.3400  0.2800\n",
       "[torch.FloatTensor of size 1x2]"
      ]
     },
     "execution_count": 638,
     "metadata": {},
     "output_type": "execute_result"
    }
   ],
   "source": [
    "target"
   ]
  },
  {
   "cell_type": "code",
   "execution_count": 639,
   "metadata": {
    "collapsed": false
   },
   "outputs": [
    {
     "data": {
      "text/plain": [
       "0.2800000011920929"
      ]
     },
     "execution_count": 639,
     "metadata": {},
     "output_type": "execute_result"
    }
   ],
   "source": [
    "target.data[0,1]"
   ]
  },
  {
   "cell_type": "code",
   "execution_count": null,
   "metadata": {
    "collapsed": true
   },
   "outputs": [],
   "source": []
  },
  {
   "cell_type": "code",
   "execution_count": null,
   "metadata": {
    "collapsed": true
   },
   "outputs": [],
   "source": []
  },
  {
   "cell_type": "code",
   "execution_count": null,
   "metadata": {
    "collapsed": true
   },
   "outputs": [],
   "source": []
  },
  {
   "cell_type": "code",
   "execution_count": null,
   "metadata": {
    "collapsed": true
   },
   "outputs": [],
   "source": []
  },
  {
   "cell_type": "code",
   "execution_count": null,
   "metadata": {
    "collapsed": true
   },
   "outputs": [],
   "source": []
  },
  {
   "cell_type": "markdown",
   "metadata": {},
   "source": [
    "# LOAD model"
   ]
  },
  {
   "cell_type": "code",
   "execution_count": 900,
   "metadata": {
    "collapsed": true
   },
   "outputs": [],
   "source": [
    "model_load = LSTMModel(33, 50, 2, 2)    \n",
    "model_load.load_state_dict(torch.load(\"./model_zoo/best_model.pth\"))\n"
   ]
  },
  {
   "cell_type": "code",
   "execution_count": 901,
   "metadata": {
    "collapsed": true
   },
   "outputs": [],
   "source": [
    "aDict = {\"valence_mean_predicted\": [], \"arousal_mean_predicted\": []}\n",
    "for i in songId:\n",
    "    shortterms = scaler.transform(getShortTerm(i))\n",
    "    shorttermsVar = Variable(torch.FloatTensor(shortterms))\n",
    "    shorttermsVar = shorttermsVar.view(shorttermsVar.size(0),1,33)\n",
    "    output = model_load(shorttermsVar)\n",
    "    valence, arousal = output.data[0,0]*10, output.data[0,1]*10\n",
    "    aDict[\"valence_mean_predicted\"].append(valence)\n",
    "    aDict[\"arousal_mean_predicted\"].append(arousal)"
   ]
  },
  {
   "cell_type": "code",
   "execution_count": 902,
   "metadata": {
    "collapsed": true
   },
   "outputs": [],
   "source": [
    "aDict[\"songId\"]= songId"
   ]
  },
  {
   "cell_type": "code",
   "execution_count": 903,
   "metadata": {
    "collapsed": true
   },
   "outputs": [],
   "source": [
    "df_predicted = pd.DataFrame.from_dict(aDict)"
   ]
  },
  {
   "cell_type": "code",
   "execution_count": 904,
   "metadata": {
    "collapsed": false
   },
   "outputs": [
    {
     "data": {
      "text/html": [
       "<div>\n",
       "<table border=\"1\" class=\"dataframe\">\n",
       "  <thead>\n",
       "    <tr style=\"text-align: right;\">\n",
       "      <th></th>\n",
       "      <th>arousal_mean_predicted</th>\n",
       "      <th>songId</th>\n",
       "      <th>valence_mean_predicted</th>\n",
       "    </tr>\n",
       "  </thead>\n",
       "  <tbody>\n",
       "    <tr>\n",
       "      <th>0</th>\n",
       "      <td>5.339479</td>\n",
       "      <td>2</td>\n",
       "      <td>5.047684</td>\n",
       "    </tr>\n",
       "    <tr>\n",
       "      <th>1</th>\n",
       "      <td>4.500100</td>\n",
       "      <td>3</td>\n",
       "      <td>4.565485</td>\n",
       "    </tr>\n",
       "    <tr>\n",
       "      <th>2</th>\n",
       "      <td>5.502889</td>\n",
       "      <td>4</td>\n",
       "      <td>5.452212</td>\n",
       "    </tr>\n",
       "    <tr>\n",
       "      <th>3</th>\n",
       "      <td>4.075323</td>\n",
       "      <td>5</td>\n",
       "      <td>4.306961</td>\n",
       "    </tr>\n",
       "    <tr>\n",
       "      <th>4</th>\n",
       "      <td>5.323739</td>\n",
       "      <td>7</td>\n",
       "      <td>5.291112</td>\n",
       "    </tr>\n",
       "    <tr>\n",
       "      <th>5</th>\n",
       "      <td>4.986744</td>\n",
       "      <td>8</td>\n",
       "      <td>4.991042</td>\n",
       "    </tr>\n",
       "    <tr>\n",
       "      <th>6</th>\n",
       "      <td>4.778561</td>\n",
       "      <td>10</td>\n",
       "      <td>4.969724</td>\n",
       "    </tr>\n",
       "    <tr>\n",
       "      <th>7</th>\n",
       "      <td>5.179821</td>\n",
       "      <td>12</td>\n",
       "      <td>5.517093</td>\n",
       "    </tr>\n",
       "    <tr>\n",
       "      <th>8</th>\n",
       "      <td>3.996446</td>\n",
       "      <td>13</td>\n",
       "      <td>4.478602</td>\n",
       "    </tr>\n",
       "    <tr>\n",
       "      <th>9</th>\n",
       "      <td>5.372656</td>\n",
       "      <td>17</td>\n",
       "      <td>5.471354</td>\n",
       "    </tr>\n",
       "    <tr>\n",
       "      <th>10</th>\n",
       "      <td>4.689505</td>\n",
       "      <td>18</td>\n",
       "      <td>4.831692</td>\n",
       "    </tr>\n",
       "    <tr>\n",
       "      <th>11</th>\n",
       "      <td>5.615352</td>\n",
       "      <td>19</td>\n",
       "      <td>5.296330</td>\n",
       "    </tr>\n",
       "    <tr>\n",
       "      <th>12</th>\n",
       "      <td>5.782453</td>\n",
       "      <td>20</td>\n",
       "      <td>5.693398</td>\n",
       "    </tr>\n",
       "    <tr>\n",
       "      <th>13</th>\n",
       "      <td>4.372161</td>\n",
       "      <td>21</td>\n",
       "      <td>4.466876</td>\n",
       "    </tr>\n",
       "    <tr>\n",
       "      <th>14</th>\n",
       "      <td>5.702084</td>\n",
       "      <td>22</td>\n",
       "      <td>5.738976</td>\n",
       "    </tr>\n",
       "    <tr>\n",
       "      <th>15</th>\n",
       "      <td>4.769002</td>\n",
       "      <td>24</td>\n",
       "      <td>4.841976</td>\n",
       "    </tr>\n",
       "    <tr>\n",
       "      <th>16</th>\n",
       "      <td>5.369490</td>\n",
       "      <td>25</td>\n",
       "      <td>5.452812</td>\n",
       "    </tr>\n",
       "    <tr>\n",
       "      <th>17</th>\n",
       "      <td>5.786610</td>\n",
       "      <td>31</td>\n",
       "      <td>5.702699</td>\n",
       "    </tr>\n",
       "    <tr>\n",
       "      <th>18</th>\n",
       "      <td>5.102950</td>\n",
       "      <td>32</td>\n",
       "      <td>5.278997</td>\n",
       "    </tr>\n",
       "    <tr>\n",
       "      <th>19</th>\n",
       "      <td>5.133700</td>\n",
       "      <td>35</td>\n",
       "      <td>5.178148</td>\n",
       "    </tr>\n",
       "  </tbody>\n",
       "</table>\n",
       "</div>"
      ],
      "text/plain": [
       "    arousal_mean_predicted  songId  valence_mean_predicted\n",
       "0                 5.339479       2                5.047684\n",
       "1                 4.500100       3                4.565485\n",
       "2                 5.502889       4                5.452212\n",
       "3                 4.075323       5                4.306961\n",
       "4                 5.323739       7                5.291112\n",
       "5                 4.986744       8                4.991042\n",
       "6                 4.778561      10                4.969724\n",
       "7                 5.179821      12                5.517093\n",
       "8                 3.996446      13                4.478602\n",
       "9                 5.372656      17                5.471354\n",
       "10                4.689505      18                4.831692\n",
       "11                5.615352      19                5.296330\n",
       "12                5.782453      20                5.693398\n",
       "13                4.372161      21                4.466876\n",
       "14                5.702084      22                5.738976\n",
       "15                4.769002      24                4.841976\n",
       "16                5.369490      25                5.452812\n",
       "17                5.786610      31                5.702699\n",
       "18                5.102950      32                5.278997\n",
       "19                5.133700      35                5.178148"
      ]
     },
     "execution_count": 904,
     "metadata": {},
     "output_type": "execute_result"
    }
   ],
   "source": [
    "df_predicted.head(20)"
   ]
  },
  {
   "cell_type": "code",
   "execution_count": 905,
   "metadata": {
    "collapsed": false
   },
   "outputs": [],
   "source": [
    "col = df_predicted.columns.tolist()"
   ]
  },
  {
   "cell_type": "code",
   "execution_count": 906,
   "metadata": {
    "collapsed": false
   },
   "outputs": [],
   "source": [
    "col = ['songId', 'valence_mean_predicted', 'arousal_mean_predicted']"
   ]
  },
  {
   "cell_type": "code",
   "execution_count": 907,
   "metadata": {
    "collapsed": true
   },
   "outputs": [],
   "source": [
    "df_predicted = df_predicted[col]"
   ]
  },
  {
   "cell_type": "code",
   "execution_count": 908,
   "metadata": {
    "collapsed": true
   },
   "outputs": [],
   "source": [
    "df_predicted.to_csv(\"./dfVALSTMPredictionBestTrainLoss.csv\")"
   ]
  },
  {
   "cell_type": "code",
   "execution_count": 911,
   "metadata": {
    "collapsed": false
   },
   "outputs": [
    {
     "data": {
      "text/plain": [
       "Variable containing:\n",
       " 0.4800  0.6500\n",
       "[torch.FloatTensor of size 1x2]"
      ]
     },
     "execution_count": 911,
     "metadata": {},
     "output_type": "execute_result"
    }
   ],
   "source": [
    "getValenceArousal(df,35)"
   ]
  },
  {
   "cell_type": "code",
   "execution_count": null,
   "metadata": {
    "collapsed": true
   },
   "outputs": [],
   "source": []
  }
 ],
 "metadata": {
  "kernelspec": {
   "display_name": "Python 3",
   "language": "python",
   "name": "python3"
  },
  "language_info": {
   "codemirror_mode": {
    "name": "ipython",
    "version": 3
   },
   "file_extension": ".py",
   "mimetype": "text/x-python",
   "name": "python",
   "nbconvert_exporter": "python",
   "pygments_lexer": "ipython3",
   "version": "3.5.2"
  }
 },
 "nbformat": 4,
 "nbformat_minor": 2
}
